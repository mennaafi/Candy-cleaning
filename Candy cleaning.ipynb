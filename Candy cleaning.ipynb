{
 "cells": [
  {
   "cell_type": "markdown",
   "metadata": {},
   "source": [
    "# Project: cleanning - [candy data]\n",
    "### this notebook is for educational purpose . in this notebook we will do some cleanning\n",
    "\n",
    "## Table of Contents\n",
    "<ul>\n",
    "<li><a href=\"#intro\">Introduction</a></li>\n",
    "<li><a href=\"#wrangling\">wrangling</a></li>\n",
    "  \n",
    "</ul>"
   ]
  },
  {
   "cell_type": "markdown",
   "metadata": {},
   "source": [
    "<a id='intro'></a>\n",
    "## Introduction\n",
    "\n",
    "### Dataset Description \n",
    "\n",
    "> i will go through candy data 2017 , this data has :\n",
    "- Internal_ID\n",
    "- Q1-Going Out?: Are you actually going trick or treating yourself? \"has values `Yes or No`\"\n",
    "- Q2-Gender: It has four different options, `Femal ,Male ,Other ,I'd rather not say`\n",
    "- Q3-Age: Numerical field\n",
    "- Q4-Country: Text Field, but users have written their own version of the names. Example, for America, there are entries such as USA, us, US, America so we should consider that while cleanning\n",
    "- Q5-State/Province: Text Field, but users have written their own version of the names. Same as the country data.\n",
    "- Q6-Joy Or Despair: All kinds of chocolate bars are the questions with three distinct options to choose from (Joy, Meh, Despair).\n",
    "- Q7-Joy Other: Text Field to write items not included above that give you JOY. Lots of missing values.\n",
    "- Q8-Despair Other: Text Field ti write items not included above that give you DESPAIR. Lots of missing values.\n",
    "- Q9-Other Comments: Text Field. Lots of missing values.\n",
    "- Q10-Dress: Binary field. Missing values present\n",
    "- Unnamed: 113\n",
    "- Q11-Day: Binary Answer Field. Missing values present\n"
   ]
  },
  {
   "cell_type": "code",
   "execution_count": 1422,
   "metadata": {},
   "outputs": [],
   "source": [
    "import warnings\n",
    "warnings.filterwarnings(action='ignore')"
   ]
  },
  {
   "cell_type": "markdown",
   "metadata": {},
   "source": [
    "# 1- import packages and load data"
   ]
  },
  {
   "cell_type": "code",
   "execution_count": 1423,
   "metadata": {
    "scrolled": false
   },
   "outputs": [
    {
     "data": {
      "text/html": [
       "<div>\n",
       "<style scoped>\n",
       "    .dataframe tbody tr th:only-of-type {\n",
       "        vertical-align: middle;\n",
       "    }\n",
       "\n",
       "    .dataframe tbody tr th {\n",
       "        vertical-align: top;\n",
       "    }\n",
       "\n",
       "    .dataframe thead th {\n",
       "        text-align: right;\n",
       "    }\n",
       "</style>\n",
       "<table border=\"1\" class=\"dataframe\">\n",
       "  <thead>\n",
       "    <tr style=\"text-align: right;\">\n",
       "      <th></th>\n",
       "      <th>Internal ID</th>\n",
       "      <th>Q1: GOING OUT?</th>\n",
       "      <th>Q2: GENDER</th>\n",
       "      <th>Q3: AGE</th>\n",
       "      <th>Q4: COUNTRY</th>\n",
       "      <th>Q5: STATE, PROVINCE, COUNTY, ETC</th>\n",
       "      <th>Q6 | 100 Grand Bar</th>\n",
       "      <th>Q6 | Anonymous brown globs that come in black and orange wrappers\\t(a.k.a. Mary Janes)</th>\n",
       "      <th>Q6 | Any full-sized candy bar</th>\n",
       "      <th>Q6 | Black Jacks</th>\n",
       "      <th>...</th>\n",
       "      <th>Q8: DESPAIR OTHER</th>\n",
       "      <th>Q9: OTHER COMMENTS</th>\n",
       "      <th>Q10: DRESS</th>\n",
       "      <th>Unnamed: 113</th>\n",
       "      <th>Q11: DAY</th>\n",
       "      <th>Q12: MEDIA [Daily Dish]</th>\n",
       "      <th>Q12: MEDIA [Science]</th>\n",
       "      <th>Q12: MEDIA [ESPN]</th>\n",
       "      <th>Q12: MEDIA [Yahoo]</th>\n",
       "      <th>Click Coordinates (x, y)</th>\n",
       "    </tr>\n",
       "  </thead>\n",
       "  <tbody>\n",
       "    <tr>\n",
       "      <th>0</th>\n",
       "      <td>90258773</td>\n",
       "      <td>NaN</td>\n",
       "      <td>NaN</td>\n",
       "      <td>NaN</td>\n",
       "      <td>NaN</td>\n",
       "      <td>NaN</td>\n",
       "      <td>NaN</td>\n",
       "      <td>NaN</td>\n",
       "      <td>NaN</td>\n",
       "      <td>NaN</td>\n",
       "      <td>...</td>\n",
       "      <td>NaN</td>\n",
       "      <td>NaN</td>\n",
       "      <td>NaN</td>\n",
       "      <td>NaN</td>\n",
       "      <td>NaN</td>\n",
       "      <td>NaN</td>\n",
       "      <td>NaN</td>\n",
       "      <td>NaN</td>\n",
       "      <td>NaN</td>\n",
       "      <td>NaN</td>\n",
       "    </tr>\n",
       "    <tr>\n",
       "      <th>1</th>\n",
       "      <td>90272821</td>\n",
       "      <td>No</td>\n",
       "      <td>Male</td>\n",
       "      <td>44</td>\n",
       "      <td>USA</td>\n",
       "      <td>NM</td>\n",
       "      <td>MEH</td>\n",
       "      <td>DESPAIR</td>\n",
       "      <td>JOY</td>\n",
       "      <td>MEH</td>\n",
       "      <td>...</td>\n",
       "      <td>NaN</td>\n",
       "      <td>Bottom line is Twix is really the only candy w...</td>\n",
       "      <td>White and gold</td>\n",
       "      <td>NaN</td>\n",
       "      <td>Sunday</td>\n",
       "      <td>NaN</td>\n",
       "      <td>1.0</td>\n",
       "      <td>NaN</td>\n",
       "      <td>NaN</td>\n",
       "      <td>(84, 25)</td>\n",
       "    </tr>\n",
       "    <tr>\n",
       "      <th>2</th>\n",
       "      <td>90272829</td>\n",
       "      <td>NaN</td>\n",
       "      <td>Male</td>\n",
       "      <td>49</td>\n",
       "      <td>USA</td>\n",
       "      <td>Virginia</td>\n",
       "      <td>NaN</td>\n",
       "      <td>NaN</td>\n",
       "      <td>NaN</td>\n",
       "      <td>NaN</td>\n",
       "      <td>...</td>\n",
       "      <td>NaN</td>\n",
       "      <td>NaN</td>\n",
       "      <td>NaN</td>\n",
       "      <td>NaN</td>\n",
       "      <td>NaN</td>\n",
       "      <td>NaN</td>\n",
       "      <td>NaN</td>\n",
       "      <td>NaN</td>\n",
       "      <td>NaN</td>\n",
       "      <td>NaN</td>\n",
       "    </tr>\n",
       "    <tr>\n",
       "      <th>3</th>\n",
       "      <td>90272840</td>\n",
       "      <td>No</td>\n",
       "      <td>Male</td>\n",
       "      <td>40</td>\n",
       "      <td>us</td>\n",
       "      <td>or</td>\n",
       "      <td>MEH</td>\n",
       "      <td>DESPAIR</td>\n",
       "      <td>JOY</td>\n",
       "      <td>MEH</td>\n",
       "      <td>...</td>\n",
       "      <td>NaN</td>\n",
       "      <td>Raisins can go to hell</td>\n",
       "      <td>White and gold</td>\n",
       "      <td>NaN</td>\n",
       "      <td>Sunday</td>\n",
       "      <td>NaN</td>\n",
       "      <td>1.0</td>\n",
       "      <td>NaN</td>\n",
       "      <td>NaN</td>\n",
       "      <td>(75, 23)</td>\n",
       "    </tr>\n",
       "    <tr>\n",
       "      <th>4</th>\n",
       "      <td>90272841</td>\n",
       "      <td>No</td>\n",
       "      <td>Male</td>\n",
       "      <td>23</td>\n",
       "      <td>usa</td>\n",
       "      <td>exton pa</td>\n",
       "      <td>JOY</td>\n",
       "      <td>DESPAIR</td>\n",
       "      <td>JOY</td>\n",
       "      <td>DESPAIR</td>\n",
       "      <td>...</td>\n",
       "      <td>NaN</td>\n",
       "      <td>NaN</td>\n",
       "      <td>White and gold</td>\n",
       "      <td>NaN</td>\n",
       "      <td>Friday</td>\n",
       "      <td>NaN</td>\n",
       "      <td>1.0</td>\n",
       "      <td>NaN</td>\n",
       "      <td>NaN</td>\n",
       "      <td>(70, 10)</td>\n",
       "    </tr>\n",
       "  </tbody>\n",
       "</table>\n",
       "<p>5 rows × 120 columns</p>\n",
       "</div>"
      ],
      "text/plain": [
       "   Internal ID Q1: GOING OUT? Q2: GENDER Q3: AGE Q4: COUNTRY  \\\n",
       "0     90258773            NaN        NaN     NaN         NaN   \n",
       "1     90272821             No       Male      44        USA    \n",
       "2     90272829            NaN       Male      49         USA   \n",
       "3     90272840             No       Male      40          us   \n",
       "4     90272841             No       Male      23         usa   \n",
       "\n",
       "  Q5: STATE, PROVINCE, COUNTY, ETC Q6 | 100 Grand Bar  \\\n",
       "0                              NaN                NaN   \n",
       "1                               NM                MEH   \n",
       "2                         Virginia                NaN   \n",
       "3                               or                MEH   \n",
       "4                         exton pa                JOY   \n",
       "\n",
       "  Q6 | Anonymous brown globs that come in black and orange wrappers\\t(a.k.a. Mary Janes)  \\\n",
       "0                                                NaN                                       \n",
       "1                                            DESPAIR                                       \n",
       "2                                                NaN                                       \n",
       "3                                            DESPAIR                                       \n",
       "4                                            DESPAIR                                       \n",
       "\n",
       "  Q6 | Any full-sized candy bar Q6 | Black Jacks  ... Q8: DESPAIR OTHER  \\\n",
       "0                           NaN              NaN  ...               NaN   \n",
       "1                           JOY              MEH  ...               NaN   \n",
       "2                           NaN              NaN  ...               NaN   \n",
       "3                           JOY              MEH  ...               NaN   \n",
       "4                           JOY          DESPAIR  ...               NaN   \n",
       "\n",
       "                                  Q9: OTHER COMMENTS      Q10: DRESS  \\\n",
       "0                                                NaN             NaN   \n",
       "1  Bottom line is Twix is really the only candy w...  White and gold   \n",
       "2                                                NaN             NaN   \n",
       "3                             Raisins can go to hell  White and gold   \n",
       "4                                                NaN  White and gold   \n",
       "\n",
       "  Unnamed: 113 Q11: DAY Q12: MEDIA [Daily Dish] Q12: MEDIA [Science]  \\\n",
       "0          NaN      NaN                     NaN                  NaN   \n",
       "1          NaN   Sunday                     NaN                  1.0   \n",
       "2          NaN      NaN                     NaN                  NaN   \n",
       "3          NaN   Sunday                     NaN                  1.0   \n",
       "4          NaN   Friday                     NaN                  1.0   \n",
       "\n",
       "  Q12: MEDIA [ESPN] Q12: MEDIA [Yahoo] Click Coordinates (x, y)  \n",
       "0               NaN                NaN                      NaN  \n",
       "1               NaN                NaN                 (84, 25)  \n",
       "2               NaN                NaN                      NaN  \n",
       "3               NaN                NaN                 (75, 23)  \n",
       "4               NaN                NaN                 (70, 10)  \n",
       "\n",
       "[5 rows x 120 columns]"
      ]
     },
     "execution_count": 1423,
     "metadata": {},
     "output_type": "execute_result"
    }
   ],
   "source": [
    "# import requied libraries\n",
    "import pandas as pd\n",
    "import numpy as np  \n",
    "import seaborn as sns\n",
    "import matplotlib.pyplot as plt  \n",
    "# load data\n",
    "data = pd.read_excel(\"candyhierarchy2017.xlsx\")\n",
    "data.head()"
   ]
  },
  {
   "cell_type": "markdown",
   "metadata": {},
   "source": [
    "<a id='wrangling'></a>\n",
    "## Data Wrangling\n",
    "\n",
    "\n",
    "\n",
    "### General Properties"
   ]
  },
  {
   "cell_type": "markdown",
   "metadata": {},
   "source": [
    "# 2- show some general properties for the data "
   ]
  },
  {
   "cell_type": "code",
   "execution_count": 1424,
   "metadata": {},
   "outputs": [
    {
     "data": {
      "text/plain": [
       "(2460, 120)"
      ]
     },
     "execution_count": 1424,
     "metadata": {},
     "output_type": "execute_result"
    }
   ],
   "source": [
    "data.shape"
   ]
  },
  {
   "cell_type": "code",
   "execution_count": 1425,
   "metadata": {},
   "outputs": [
    {
     "name": "stdout",
     "output_type": "stream",
     "text": [
      "<class 'pandas.core.frame.DataFrame'>\n",
      "RangeIndex: 2460 entries, 0 to 2459\n",
      "Columns: 120 entries, Internal ID to Click Coordinates (x, y)\n",
      "dtypes: float64(4), int64(1), object(115)\n",
      "memory usage: 2.3+ MB\n"
     ]
    }
   ],
   "source": [
    "data.info()"
   ]
  },
  {
   "cell_type": "code",
   "execution_count": 1426,
   "metadata": {},
   "outputs": [
    {
     "data": {
      "text/plain": [
       "Internal ID                    0\n",
       "Q1: GOING OUT?               110\n",
       "Q2: GENDER                    41\n",
       "Q3: AGE                       84\n",
       "Q4: COUNTRY                   64\n",
       "                            ... \n",
       "Q12: MEDIA [Daily Dish]     2375\n",
       "Q12: MEDIA [Science]        1098\n",
       "Q12: MEDIA [ESPN]           2361\n",
       "Q12: MEDIA [Yahoo]          2393\n",
       "Click Coordinates (x, y)     855\n",
       "Length: 120, dtype: int64"
      ]
     },
     "execution_count": 1426,
     "metadata": {},
     "output_type": "execute_result"
    }
   ],
   "source": [
    "data.isnull().sum()"
   ]
  },
  {
   "cell_type": "code",
   "execution_count": 1427,
   "metadata": {},
   "outputs": [
    {
     "data": {
      "text/plain": [
       "0"
      ]
     },
     "execution_count": 1427,
     "metadata": {},
     "output_type": "execute_result"
    }
   ],
   "source": [
    "data.duplicated().sum()"
   ]
  },
  {
   "cell_type": "markdown",
   "metadata": {},
   "source": [
    "# 3- write summary about what you get form the above functions\n",
    "> #### tips : this summary can be about : if there is any missing values , if there a wrong data type , if there a wrong range of values , ...."
   ]
  },
  {
   "cell_type": "code",
   "execution_count": 1428,
   "metadata": {},
   "outputs": [],
   "source": [
    "# there are many missing values in every column except  Internal ID  column\n",
    "# wrong data type in age column it is string(object) must converted to numerical\n",
    "# NO duplicated values"
   ]
  },
  {
   "cell_type": "markdown",
   "metadata": {},
   "source": [
    "# cleaning"
   ]
  },
  {
   "cell_type": "markdown",
   "metadata": {},
   "source": [
    "### 4- drop all the useless columns and  rows with too much NaN , \n",
    "> tip : useless columns can be like `Internal ID`and can be also columns with too much NaN \n",
    "- rename columns for easy access"
   ]
  },
  {
   "cell_type": "code",
   "execution_count": 1429,
   "metadata": {},
   "outputs": [
    {
     "data": {
      "text/plain": [
       "Index(['Internal ID', 'Q1: GOING OUT?', 'Q2: GENDER', 'Q3: AGE', 'Q4: COUNTRY',\n",
       "       'Q5: STATE, PROVINCE, COUNTY, ETC', 'Q6 | 100 Grand Bar',\n",
       "       'Q6 | Anonymous brown globs that come in black and orange wrappers\\t(a.k.a. Mary Janes)',\n",
       "       'Q6 | Any full-sized candy bar', 'Q6 | Black Jacks',\n",
       "       ...\n",
       "       'Q8: DESPAIR OTHER', 'Q9: OTHER COMMENTS', 'Q10: DRESS', 'Unnamed: 113',\n",
       "       'Q11: DAY', 'Q12: MEDIA [Daily Dish]', 'Q12: MEDIA [Science]',\n",
       "       'Q12: MEDIA [ESPN]', 'Q12: MEDIA [Yahoo]', 'Click Coordinates (x, y)'],\n",
       "      dtype='object', length=120)"
      ]
     },
     "execution_count": 1429,
     "metadata": {},
     "output_type": "execute_result"
    }
   ],
   "source": [
    "data.columns"
   ]
  },
  {
   "cell_type": "code",
   "execution_count": 1430,
   "metadata": {},
   "outputs": [],
   "source": [
    "data = data.rename(columns = {'Q1: GOING OUT?' : 'going_out', 'Q2: GENDER' : 'gender', 'Q3: AGE': 'age', 'Q4: COUNTRY' : 'country',\n",
    "       'Q5: STATE, PROVINCE, COUNTY, ETC' : 'state', 'Q10: DRESS' : 'dress', 'Q11: DAY': 'day',\n",
    "       'Q12: MEDIA [Daily Dish]' : 'media_DailyDish', 'Q12: MEDIA [Science]': 'media_Science', 'Q12: MEDIA [ESPN]' : 'media_ESPN',\n",
    "       'Q12: MEDIA [Yahoo]': 'media_Yahoo', 'Q8: DESPAIR OTHER':'despair_other', 'Q9: OTHER COMMENTS':'other_comments'})\n",
    "data = data.rename(columns ={'Q6 | 100 Grand Bar':'100_grand_bar','Q6 | Any full-sized candy bar':'any_full_sized_candy_bar','Q6 | Black Jacks':'black_jacks','Q6 | Anonymous brown globs that come in black and orange wrappers\\t(a.k.a. Mary Janes)':'anonymous_brown_globs_that_come_in_black_and_orange_wrappers'})"
   ]
  },
  {
   "cell_type": "code",
   "execution_count": 1431,
   "metadata": {},
   "outputs": [
    {
     "data": {
      "text/plain": [
       "Index(['Internal ID', 'going_out', 'gender', 'age', 'country', 'state',\n",
       "       '100_grand_bar',\n",
       "       'anonymous_brown_globs_that_come_in_black_and_orange_wrappers',\n",
       "       'any_full_sized_candy_bar', 'black_jacks',\n",
       "       ...\n",
       "       'despair_other', 'other_comments', 'dress', 'Unnamed: 113', 'day',\n",
       "       'media_DailyDish', 'media_Science', 'media_ESPN', 'media_Yahoo',\n",
       "       'Click Coordinates (x, y)'],\n",
       "      dtype='object', length=120)"
      ]
     },
     "execution_count": 1431,
     "metadata": {},
     "output_type": "execute_result"
    }
   ],
   "source": [
    "data.columns"
   ]
  },
  {
   "cell_type": "code",
   "execution_count": 1432,
   "metadata": {},
   "outputs": [],
   "source": [
    "# dropping useless columns and columns with many missing values\n",
    "data= data.drop(['Internal ID' ,'Unnamed: 113','Click Coordinates (x, y)','media_DailyDish','media_Science','media_ESPN','media_Yahoo','Q7: JOY OTHER','despair_other','other_comments'\n",
    "] , axis=1)"
   ]
  },
  {
   "cell_type": "code",
   "execution_count": 1433,
   "metadata": {},
   "outputs": [
    {
     "data": {
      "text/html": [
       "<div>\n",
       "<style scoped>\n",
       "    .dataframe tbody tr th:only-of-type {\n",
       "        vertical-align: middle;\n",
       "    }\n",
       "\n",
       "    .dataframe tbody tr th {\n",
       "        vertical-align: top;\n",
       "    }\n",
       "\n",
       "    .dataframe thead th {\n",
       "        text-align: right;\n",
       "    }\n",
       "</style>\n",
       "<table border=\"1\" class=\"dataframe\">\n",
       "  <thead>\n",
       "    <tr style=\"text-align: right;\">\n",
       "      <th></th>\n",
       "      <th>going_out</th>\n",
       "      <th>gender</th>\n",
       "      <th>age</th>\n",
       "      <th>country</th>\n",
       "      <th>state</th>\n",
       "      <th>100_grand_bar</th>\n",
       "      <th>anonymous_brown_globs_that_come_in_black_and_orange_wrappers</th>\n",
       "      <th>any_full_sized_candy_bar</th>\n",
       "      <th>black_jacks</th>\n",
       "      <th>Q6 | Bonkers (the candy)</th>\n",
       "      <th>...</th>\n",
       "      <th>Q6 | Trail Mix</th>\n",
       "      <th>Q6 | Twix</th>\n",
       "      <th>Q6 | Vials of pure high fructose corn syrup, for main-lining into your vein</th>\n",
       "      <th>Q6 | Vicodin</th>\n",
       "      <th>Q6 | Whatchamacallit Bars</th>\n",
       "      <th>Q6 | White Bread</th>\n",
       "      <th>Q6 | Whole Wheat anything</th>\n",
       "      <th>Q6 | York Peppermint Patties</th>\n",
       "      <th>dress</th>\n",
       "      <th>day</th>\n",
       "    </tr>\n",
       "  </thead>\n",
       "  <tbody>\n",
       "    <tr>\n",
       "      <th>0</th>\n",
       "      <td>NaN</td>\n",
       "      <td>NaN</td>\n",
       "      <td>NaN</td>\n",
       "      <td>NaN</td>\n",
       "      <td>NaN</td>\n",
       "      <td>NaN</td>\n",
       "      <td>NaN</td>\n",
       "      <td>NaN</td>\n",
       "      <td>NaN</td>\n",
       "      <td>NaN</td>\n",
       "      <td>...</td>\n",
       "      <td>NaN</td>\n",
       "      <td>NaN</td>\n",
       "      <td>NaN</td>\n",
       "      <td>NaN</td>\n",
       "      <td>NaN</td>\n",
       "      <td>NaN</td>\n",
       "      <td>NaN</td>\n",
       "      <td>NaN</td>\n",
       "      <td>NaN</td>\n",
       "      <td>NaN</td>\n",
       "    </tr>\n",
       "    <tr>\n",
       "      <th>1</th>\n",
       "      <td>No</td>\n",
       "      <td>Male</td>\n",
       "      <td>44</td>\n",
       "      <td>USA</td>\n",
       "      <td>NM</td>\n",
       "      <td>MEH</td>\n",
       "      <td>DESPAIR</td>\n",
       "      <td>JOY</td>\n",
       "      <td>MEH</td>\n",
       "      <td>DESPAIR</td>\n",
       "      <td>...</td>\n",
       "      <td>DESPAIR</td>\n",
       "      <td>JOY</td>\n",
       "      <td>DESPAIR</td>\n",
       "      <td>DESPAIR</td>\n",
       "      <td>DESPAIR</td>\n",
       "      <td>DESPAIR</td>\n",
       "      <td>DESPAIR</td>\n",
       "      <td>DESPAIR</td>\n",
       "      <td>White and gold</td>\n",
       "      <td>Sunday</td>\n",
       "    </tr>\n",
       "    <tr>\n",
       "      <th>2</th>\n",
       "      <td>NaN</td>\n",
       "      <td>Male</td>\n",
       "      <td>49</td>\n",
       "      <td>USA</td>\n",
       "      <td>Virginia</td>\n",
       "      <td>NaN</td>\n",
       "      <td>NaN</td>\n",
       "      <td>NaN</td>\n",
       "      <td>NaN</td>\n",
       "      <td>NaN</td>\n",
       "      <td>...</td>\n",
       "      <td>NaN</td>\n",
       "      <td>NaN</td>\n",
       "      <td>NaN</td>\n",
       "      <td>NaN</td>\n",
       "      <td>NaN</td>\n",
       "      <td>NaN</td>\n",
       "      <td>NaN</td>\n",
       "      <td>NaN</td>\n",
       "      <td>NaN</td>\n",
       "      <td>NaN</td>\n",
       "    </tr>\n",
       "    <tr>\n",
       "      <th>3</th>\n",
       "      <td>No</td>\n",
       "      <td>Male</td>\n",
       "      <td>40</td>\n",
       "      <td>us</td>\n",
       "      <td>or</td>\n",
       "      <td>MEH</td>\n",
       "      <td>DESPAIR</td>\n",
       "      <td>JOY</td>\n",
       "      <td>MEH</td>\n",
       "      <td>MEH</td>\n",
       "      <td>...</td>\n",
       "      <td>MEH</td>\n",
       "      <td>JOY</td>\n",
       "      <td>DESPAIR</td>\n",
       "      <td>JOY</td>\n",
       "      <td>JOY</td>\n",
       "      <td>DESPAIR</td>\n",
       "      <td>DESPAIR</td>\n",
       "      <td>DESPAIR</td>\n",
       "      <td>White and gold</td>\n",
       "      <td>Sunday</td>\n",
       "    </tr>\n",
       "    <tr>\n",
       "      <th>4</th>\n",
       "      <td>No</td>\n",
       "      <td>Male</td>\n",
       "      <td>23</td>\n",
       "      <td>usa</td>\n",
       "      <td>exton pa</td>\n",
       "      <td>JOY</td>\n",
       "      <td>DESPAIR</td>\n",
       "      <td>JOY</td>\n",
       "      <td>DESPAIR</td>\n",
       "      <td>MEH</td>\n",
       "      <td>...</td>\n",
       "      <td>DESPAIR</td>\n",
       "      <td>JOY</td>\n",
       "      <td>MEH</td>\n",
       "      <td>JOY</td>\n",
       "      <td>JOY</td>\n",
       "      <td>DESPAIR</td>\n",
       "      <td>DESPAIR</td>\n",
       "      <td>JOY</td>\n",
       "      <td>White and gold</td>\n",
       "      <td>Friday</td>\n",
       "    </tr>\n",
       "  </tbody>\n",
       "</table>\n",
       "<p>5 rows × 110 columns</p>\n",
       "</div>"
      ],
      "text/plain": [
       "  going_out gender  age country     state 100_grand_bar  \\\n",
       "0       NaN    NaN  NaN     NaN       NaN           NaN   \n",
       "1        No   Male   44    USA         NM           MEH   \n",
       "2       NaN   Male   49     USA  Virginia           NaN   \n",
       "3        No   Male   40      us        or           MEH   \n",
       "4        No   Male   23     usa  exton pa           JOY   \n",
       "\n",
       "  anonymous_brown_globs_that_come_in_black_and_orange_wrappers  \\\n",
       "0                                                NaN             \n",
       "1                                            DESPAIR             \n",
       "2                                                NaN             \n",
       "3                                            DESPAIR             \n",
       "4                                            DESPAIR             \n",
       "\n",
       "  any_full_sized_candy_bar black_jacks Q6 | Bonkers (the candy)  ...  \\\n",
       "0                      NaN         NaN                      NaN  ...   \n",
       "1                      JOY         MEH                  DESPAIR  ...   \n",
       "2                      NaN         NaN                      NaN  ...   \n",
       "3                      JOY         MEH                      MEH  ...   \n",
       "4                      JOY     DESPAIR                      MEH  ...   \n",
       "\n",
       "  Q6 | Trail Mix Q6 | Twix  \\\n",
       "0            NaN       NaN   \n",
       "1        DESPAIR       JOY   \n",
       "2            NaN       NaN   \n",
       "3            MEH       JOY   \n",
       "4        DESPAIR       JOY   \n",
       "\n",
       "  Q6 | Vials of pure high fructose corn syrup, for main-lining into your vein  \\\n",
       "0                                                NaN                            \n",
       "1                                            DESPAIR                            \n",
       "2                                                NaN                            \n",
       "3                                            DESPAIR                            \n",
       "4                                                MEH                            \n",
       "\n",
       "  Q6 | Vicodin Q6 | Whatchamacallit Bars Q6 | White Bread  \\\n",
       "0          NaN                       NaN              NaN   \n",
       "1      DESPAIR                   DESPAIR          DESPAIR   \n",
       "2          NaN                       NaN              NaN   \n",
       "3          JOY                       JOY          DESPAIR   \n",
       "4          JOY                       JOY          DESPAIR   \n",
       "\n",
       "  Q6 | Whole Wheat anything Q6 | York Peppermint Patties           dress  \\\n",
       "0                       NaN                          NaN             NaN   \n",
       "1                   DESPAIR                      DESPAIR  White and gold   \n",
       "2                       NaN                          NaN             NaN   \n",
       "3                   DESPAIR                      DESPAIR  White and gold   \n",
       "4                   DESPAIR                          JOY  White and gold   \n",
       "\n",
       "      day  \n",
       "0     NaN  \n",
       "1  Sunday  \n",
       "2     NaN  \n",
       "3  Sunday  \n",
       "4  Friday  \n",
       "\n",
       "[5 rows x 110 columns]"
      ]
     },
     "execution_count": 1433,
     "metadata": {},
     "output_type": "execute_result"
    }
   ],
   "source": [
    "data.head()"
   ]
  },
  {
   "cell_type": "code",
   "execution_count": 1434,
   "metadata": {
    "scrolled": true
   },
   "outputs": [
    {
     "data": {
      "text/plain": [
       "going_out                       110\n",
       "gender                           41\n",
       "age                              84\n",
       "country                          64\n",
       "state                           100\n",
       "                               ... \n",
       "Q6 | White Bread                757\n",
       "Q6 | Whole Wheat anything       747\n",
       "Q6 | York Peppermint Patties    705\n",
       "dress                           744\n",
       "day                             725\n",
       "Length: 110, dtype: int64"
      ]
     },
     "execution_count": 1434,
     "metadata": {},
     "output_type": "execute_result"
    }
   ],
   "source": [
    "data.isnull().sum()"
   ]
  },
  {
   "cell_type": "markdown",
   "metadata": {},
   "source": [
    "### 5 - clean `going out` column \n",
    "> tip : you should choose which best value to put in place of these NaNs ( mode, unknown,other ....etc)"
   ]
  },
  {
   "cell_type": "code",
   "execution_count": 1435,
   "metadata": {},
   "outputs": [
    {
     "data": {
      "text/plain": [
       "array([nan, 'No', 'Yes'], dtype=object)"
      ]
     },
     "execution_count": 1435,
     "metadata": {},
     "output_type": "execute_result"
    }
   ],
   "source": [
    "data['going_out'].unique()"
   ]
  },
  {
   "cell_type": "code",
   "execution_count": 1436,
   "metadata": {},
   "outputs": [
    {
     "data": {
      "text/plain": [
       "0    No\n",
       "Name: going_out, dtype: object"
      ]
     },
     "execution_count": 1436,
     "metadata": {},
     "output_type": "execute_result"
    }
   ],
   "source": [
    "data['going_out'].mode()"
   ]
  },
  {
   "cell_type": "code",
   "execution_count": 1437,
   "metadata": {},
   "outputs": [],
   "source": [
    "# fill missing values with mode because it is category\n",
    "data['going_out'] = data['going_out'].fillna('No')"
   ]
  },
  {
   "cell_type": "code",
   "execution_count": 1438,
   "metadata": {},
   "outputs": [
    {
     "data": {
      "text/plain": [
       "array(['No', 'Yes'], dtype=object)"
      ]
     },
     "execution_count": 1438,
     "metadata": {},
     "output_type": "execute_result"
    }
   ],
   "source": [
    "# checking\n",
    "data['going_out'].unique()"
   ]
  },
  {
   "cell_type": "code",
   "execution_count": 1439,
   "metadata": {},
   "outputs": [
    {
     "data": {
      "text/plain": [
       "0"
      ]
     },
     "execution_count": 1439,
     "metadata": {},
     "output_type": "execute_result"
    }
   ],
   "source": [
    "# checking\n",
    "data['going_out'].isnull().sum()"
   ]
  },
  {
   "cell_type": "markdown",
   "metadata": {},
   "source": [
    "### 6 - clean ` gender` column \n",
    "> tip : you should choose which best value to put in place of these NaNs ( mode, unknown,other ....etc)"
   ]
  },
  {
   "cell_type": "code",
   "execution_count": 1440,
   "metadata": {},
   "outputs": [
    {
     "data": {
      "text/plain": [
       "going_out                         0\n",
       "gender                           41\n",
       "age                              84\n",
       "country                          64\n",
       "state                           100\n",
       "                               ... \n",
       "Q6 | White Bread                757\n",
       "Q6 | Whole Wheat anything       747\n",
       "Q6 | York Peppermint Patties    705\n",
       "dress                           744\n",
       "day                             725\n",
       "Length: 110, dtype: int64"
      ]
     },
     "execution_count": 1440,
     "metadata": {},
     "output_type": "execute_result"
    }
   ],
   "source": [
    "data.isnull().sum()"
   ]
  },
  {
   "cell_type": "code",
   "execution_count": 1441,
   "metadata": {},
   "outputs": [
    {
     "data": {
      "text/plain": [
       "array([nan, 'Male', 'Female', \"I'd rather not say\", 'Other'], dtype=object)"
      ]
     },
     "execution_count": 1441,
     "metadata": {},
     "output_type": "execute_result"
    }
   ],
   "source": [
    "data['gender'].unique()"
   ]
  },
  {
   "cell_type": "code",
   "execution_count": 1442,
   "metadata": {},
   "outputs": [
    {
     "data": {
      "text/plain": [
       "0    Male\n",
       "Name: gender, dtype: object"
      ]
     },
     "execution_count": 1442,
     "metadata": {},
     "output_type": "execute_result"
    }
   ],
   "source": [
    "data['gender'].mode()"
   ]
  },
  {
   "cell_type": "code",
   "execution_count": 1443,
   "metadata": {},
   "outputs": [],
   "source": [
    "data['gender'] = data['gender'].fillna('Male')"
   ]
  },
  {
   "cell_type": "code",
   "execution_count": 1444,
   "metadata": {},
   "outputs": [
    {
     "data": {
      "text/plain": [
       "0"
      ]
     },
     "execution_count": 1444,
     "metadata": {},
     "output_type": "execute_result"
    }
   ],
   "source": [
    "# check\n",
    "data['gender'].isnull().sum()"
   ]
  },
  {
   "cell_type": "markdown",
   "metadata": {},
   "source": [
    "### 7 - clean ` age` column \n",
    "> tip : note the type of age column , and NaN values\n",
    " - try to use `to_numeric` \n",
    " - tip : you should choose which best value to put in place of these NaNs ( mean, median, ....etc)"
   ]
  },
  {
   "cell_type": "code",
   "execution_count": 1445,
   "metadata": {},
   "outputs": [
    {
     "data": {
      "text/plain": [
       "array([nan, 44, 49, 40, 23, 53, 33, 43, 56, 64, 37, 59, 48, 54, 36, 45,\n",
       "       25, 34, 35, 38, 58, 50, 47, 16, 52, 63, 65, 41, 27, 31, 61, 46, 42,\n",
       "       62, 29, 39, 32, 28, 69, 67, 30, 22, 26, 51, 70, 24, 18, 19,\n",
       "       'Old enough', 57, 60, 66, 12, 'Many', 55, 72, '?', 21, 11, 'no', 9,\n",
       "       68, 20, 6, 10, 71, 90, 13, '45-55', 312, 99, 7, 'hahahahaha', 88,\n",
       "       39.4, 74, 102, 'older than dirt', 17, 15, 8, 75, '5u', 'Enough',\n",
       "       'See question 2', '24-50', 14, 'Over 50', 100, 76, 1000,\n",
       "       'sixty-nine', '46 Halloweens.', 'ancient', 77, 'OLD', 'old', 73,\n",
       "       70.5, 1, 'MY NAME JEFF', 4, '59 on the day after Halloween',\n",
       "       'old enough', 'your mom',\n",
       "       'I can remember when Java was a cool new language', '60+'],\n",
       "      dtype=object)"
      ]
     },
     "execution_count": 1445,
     "metadata": {},
     "output_type": "execute_result"
    }
   ],
   "source": [
    "data['age'].unique()"
   ]
  },
  {
   "cell_type": "code",
   "execution_count": 1446,
   "metadata": {},
   "outputs": [],
   "source": [
    "# convert type column from object to numerical\n",
    "data['age'] = pd.to_numeric(data['age'], errors='coerce')"
   ]
  },
  {
   "cell_type": "code",
   "execution_count": 1447,
   "metadata": {},
   "outputs": [
    {
     "data": {
      "text/plain": [
       "41.0"
      ]
     },
     "execution_count": 1447,
     "metadata": {},
     "output_type": "execute_result"
    }
   ],
   "source": [
    "# there are outliers such as {1000,312} so i will use median not mean\n",
    "data['age'].median()"
   ]
  },
  {
   "cell_type": "code",
   "execution_count": 1448,
   "metadata": {},
   "outputs": [],
   "source": [
    "data['age'] = data['age'].fillna(41.0)"
   ]
  },
  {
   "cell_type": "code",
   "execution_count": 1449,
   "metadata": {},
   "outputs": [],
   "source": [
    "data['age'] = pd.to_numeric(data['age'], errors='coerce')"
   ]
  },
  {
   "cell_type": "code",
   "execution_count": 1450,
   "metadata": {},
   "outputs": [
    {
     "data": {
      "text/plain": [
       "0"
      ]
     },
     "execution_count": 1450,
     "metadata": {},
     "output_type": "execute_result"
    }
   ],
   "source": [
    "data['age'].isnull().sum()"
   ]
  },
  {
   "cell_type": "markdown",
   "metadata": {},
   "source": [
    "# 8 - clean country column\n",
    "\n",
    "    tip : note that country column has country names with different writing ways\n",
    "\n",
    "    use fuzzywuzzy to deal with this problem\n",
    "    you should choose which best value to put in place of these NaNs ( mode, unknown,other ....etc)\n",
    "\n"
   ]
  },
  {
   "cell_type": "code",
   "execution_count": 1451,
   "metadata": {},
   "outputs": [
    {
     "data": {
      "text/plain": [
       "array([nan, 'USA ', 'USA', 'us', 'usa', 'canada', 'Canada', 'Us', 'US',\n",
       "       'Murica', 'United States', 'uk', 'United Kingdom', 'united states',\n",
       "       'Usa', 'United States ', 'United staes',\n",
       "       'United States of America', 'UAE', 'England', 'UK', 'canada ',\n",
       "       'Mexico', 'United states', 'u.s.a.', 'USAUSAUSA', 'america', 35,\n",
       "       'france', 'United States of America ', 'U.S.A.', 'finland',\n",
       "       'unhinged states', 'Canada ', 'united states of america',\n",
       "       'US of A', 'Unites States', 'The United States', 'North Carolina ',\n",
       "       'Unied States', 'Netherlands', 'germany', 'Europe', 'Earth', 'U S',\n",
       "       'u.s.', 'U.K. ', 'Costa Rica', 'The United States of America',\n",
       "       'unite states', 'U.S.', 46, 'cascadia', 'Australia',\n",
       "       'insanity lately', 'Greece', 'USA? Hard to tell anymore..',\n",
       "       \"'merica\", 'usas', 'Pittsburgh', 45, 'United State', 32, 'France',\n",
       "       'australia', 'A', 'Can', 'Canae', 'New York', 'Trumpistan',\n",
       "       'Ireland', 'United Sates', 'Korea', 'California', 'Japan', 'USa',\n",
       "       'South africa',\n",
       "       'I pretend to be from Canada, but I am really from the United States.',\n",
       "       'Usa ', 'Uk', 'Iceland', 'Germany', 'Canada`', 'Scotland', 'UK ',\n",
       "       'Denmark', 'United Stated', 'France ', 'Switzerland',\n",
       "       'Ahem....Amerca', 'UD', 'Scotland ', 'South Korea', 'New Jersey',\n",
       "       'CANADA', 'Indonesia', 'United ststes', 'America',\n",
       "       'The Netherlands', 'United Statss', 'endland', 'Atlantis',\n",
       "       'murrika', 'USA! USA! USA!', 'USAA', 'Alaska', 'united States ',\n",
       "       'soviet canuckistan', 'N. America', 'Singapore', 'USSA', 'China',\n",
       "       'Taiwan', 'Ireland ', 'hong kong', 'spain', 'Sweden', 'Hong Kong',\n",
       "       'U.S. ', 'Narnia', 'u s a', 'United Statea', 'united ststes', 1,\n",
       "       'subscribe to dm4uz3 on youtube', 'United kingdom',\n",
       "       'USA USA USA!!!!', \"I don't know anymore\", 'Fear and Loathing'],\n",
       "      dtype=object)"
      ]
     },
     "execution_count": 1451,
     "metadata": {},
     "output_type": "execute_result"
    }
   ],
   "source": [
    "data['country'].unique()"
   ]
  },
  {
   "cell_type": "code",
   "execution_count": 1452,
   "metadata": {},
   "outputs": [],
   "source": [
    "# fuzzywazzy made eror i used another way"
   ]
  },
  {
   "cell_type": "code",
   "execution_count": 1453,
   "metadata": {},
   "outputs": [],
   "source": [
    "# convert to lower case\n",
    "data['country'] = data['country'].str.lower()\n",
    "# remove trailing white spaces\n",
    "data['country'] = data['country'].str.strip()"
   ]
  },
  {
   "cell_type": "code",
   "execution_count": 1454,
   "metadata": {},
   "outputs": [
    {
     "data": {
      "text/plain": [
       "{'australia',\n",
       " 'europe',\n",
       " 'i pretend to be from canada, but i am really from the united states.',\n",
       " 'murica',\n",
       " 'murrika',\n",
       " 'pittsburgh',\n",
       " 'south africa',\n",
       " 'south korea',\n",
       " 'soviet canuckistan',\n",
       " 'subscribe to dm4uz3 on youtube',\n",
       " 'the united states',\n",
       " 'the united states of america',\n",
       " 'trumpistan',\n",
       " 'u s',\n",
       " 'u s a',\n",
       " 'u.k.',\n",
       " 'u.s.',\n",
       " 'u.s.a.',\n",
       " 'uae',\n",
       " 'ud',\n",
       " 'uk',\n",
       " 'unhinged states',\n",
       " 'unied states',\n",
       " 'unite states',\n",
       " 'united kingdom',\n",
       " 'united sates',\n",
       " 'united staes',\n",
       " 'united state',\n",
       " 'united statea',\n",
       " 'united stated',\n",
       " 'united states',\n",
       " 'united states of america',\n",
       " 'united statss',\n",
       " 'united ststes',\n",
       " 'unites states',\n",
       " 'us',\n",
       " 'us of a',\n",
       " 'usa',\n",
       " 'usa usa usa!!!!',\n",
       " 'usa! usa! usa!',\n",
       " 'usa? hard to tell anymore..',\n",
       " 'usaa',\n",
       " 'usas',\n",
       " 'usausausa',\n",
       " 'ussa'}"
      ]
     },
     "execution_count": 1454,
     "metadata": {},
     "output_type": "execute_result"
    }
   ],
   "source": [
    "# for USA\n",
    "set([x for x in data['country'] if 'u' in str(x)]) "
   ]
  },
  {
   "cell_type": "code",
   "execution_count": 1455,
   "metadata": {},
   "outputs": [],
   "source": [
    "USA = [x for x in data['country'] if (('u' in str(x) or 'U' in str(x)) and 'ingdom' not in str(x)\\\n",
    "     and 'urope' not in str(x) and 'stralia' not in str(x) and 'South Korea' not in str(x) and 'South africa' not in str(x) and 'uk' not in str(x))]"
   ]
  },
  {
   "cell_type": "code",
   "execution_count": 1456,
   "metadata": {},
   "outputs": [],
   "source": [
    "data['country'] = data['country'].replace(to_replace = USA, value = 'USA')"
   ]
  },
  {
   "cell_type": "code",
   "execution_count": 1457,
   "metadata": {},
   "outputs": [
    {
     "data": {
      "text/plain": [
       "USA                     2042\n",
       "canada                   224\n",
       "uk                        18\n",
       "united kingdom            14\n",
       "germany                   10\n",
       "australia                  7\n",
       "netherlands                6\n",
       "america                    6\n",
       "japan                      5\n",
       "scotland                   5\n",
       "mexico                     4\n",
       "ireland                    4\n",
       "france                     3\n",
       "switzerland                3\n",
       "sweden                     2\n",
       "china                      2\n",
       "denmark                    2\n",
       "hong kong                  2\n",
       "singapore                  1\n",
       "n. america                 1\n",
       "alaska                     1\n",
       "narnia                     1\n",
       "endland                    1\n",
       "the netherlands            1\n",
       "indonesia                  1\n",
       "taiwan                     1\n",
       "new jersey                 1\n",
       "i don't know anymore       1\n",
       "ahem....amerca             1\n",
       "spain                      1\n",
       "atlantis                   1\n",
       "korea                      1\n",
       "canada`                    1\n",
       "iceland                    1\n",
       "england                    1\n",
       "finland                    1\n",
       "north carolina             1\n",
       "europe                     1\n",
       "earth                      1\n",
       "costa rica                 1\n",
       "cascadia                   1\n",
       "insanity lately            1\n",
       "greece                     1\n",
       "'merica                    1\n",
       "a                          1\n",
       "can                        1\n",
       "canae                      1\n",
       "new york                   1\n",
       "california                 1\n",
       "fear and loathing          1\n",
       "Name: country, dtype: int64"
      ]
     },
     "execution_count": 1457,
     "metadata": {},
     "output_type": "execute_result"
    }
   ],
   "source": [
    "data['country'].value_counts()"
   ]
  },
  {
   "cell_type": "code",
   "execution_count": 1458,
   "metadata": {},
   "outputs": [],
   "source": [
    "data['country']=data['country'].replace('uk','united kingdom')"
   ]
  },
  {
   "cell_type": "code",
   "execution_count": 1459,
   "metadata": {},
   "outputs": [
    {
     "data": {
      "text/plain": [
       "USA                     2042\n",
       "canada                   224\n",
       "united kingdom            32\n",
       "germany                   10\n",
       "australia                  7\n",
       "america                    6\n",
       "netherlands                6\n",
       "japan                      5\n",
       "scotland                   5\n",
       "mexico                     4\n",
       "ireland                    4\n",
       "switzerland                3\n",
       "france                     3\n",
       "sweden                     2\n",
       "hong kong                  2\n",
       "china                      2\n",
       "denmark                    2\n",
       "indonesia                  1\n",
       "ahem....amerca             1\n",
       "narnia                     1\n",
       "new jersey                 1\n",
       "i don't know anymore       1\n",
       "atlantis                   1\n",
       "the netherlands            1\n",
       "endland                    1\n",
       "alaska                     1\n",
       "singapore                  1\n",
       "taiwan                     1\n",
       "spain                      1\n",
       "n. america                 1\n",
       "korea                      1\n",
       "canada`                    1\n",
       "iceland                    1\n",
       "england                    1\n",
       "finland                    1\n",
       "north carolina             1\n",
       "europe                     1\n",
       "earth                      1\n",
       "costa rica                 1\n",
       "cascadia                   1\n",
       "insanity lately            1\n",
       "greece                     1\n",
       "'merica                    1\n",
       "a                          1\n",
       "can                        1\n",
       "canae                      1\n",
       "new york                   1\n",
       "california                 1\n",
       "fear and loathing          1\n",
       "Name: country, dtype: int64"
      ]
     },
     "execution_count": 1459,
     "metadata": {},
     "output_type": "execute_result"
    }
   ],
   "source": [
    "data['country'].value_counts()"
   ]
  },
  {
   "cell_type": "code",
   "execution_count": 1460,
   "metadata": {},
   "outputs": [
    {
     "data": {
      "text/plain": [
       "array([nan, 'USA', 'canada', 'united kingdom', 'england', 'mexico',\n",
       "       'america', 'france', 'finland', 'north carolina', 'netherlands',\n",
       "       'germany', 'europe', 'earth', 'costa rica', 'cascadia',\n",
       "       'australia', 'insanity lately', 'greece', \"'merica\", 'a', 'can',\n",
       "       'canae', 'new york', 'ireland', 'korea', 'california', 'japan',\n",
       "       'iceland', 'canada`', 'scotland', 'denmark', 'switzerland',\n",
       "       'ahem....amerca', 'new jersey', 'indonesia', 'the netherlands',\n",
       "       'endland', 'atlantis', 'alaska', 'n. america', 'singapore',\n",
       "       'china', 'taiwan', 'hong kong', 'spain', 'sweden', 'narnia',\n",
       "       \"i don't know anymore\", 'fear and loathing'], dtype=object)"
      ]
     },
     "execution_count": 1460,
     "metadata": {},
     "output_type": "execute_result"
    }
   ],
   "source": [
    "data['country'].unique()"
   ]
  },
  {
   "cell_type": "code",
   "execution_count": 1461,
   "metadata": {},
   "outputs": [],
   "source": [
    "# replace unusual values with USA bec it is the  mode  \n",
    "#correct america values\n",
    "data['country']=data['country'].replace({'a':'USA','can':'USA','ahem....amerca':'america',\"i don't know anymore\":\"USA\",'fear and loathing':'USA','earth':'USA',\"'merica\":\"america\",'n. america':'america','insanity lately':'USA'})"
   ]
  },
  {
   "cell_type": "code",
   "execution_count": 1462,
   "metadata": {},
   "outputs": [
    {
     "data": {
      "text/plain": [
       "array([nan, 'USA', 'canada', 'united kingdom', 'england', 'mexico',\n",
       "       'america', 'france', 'finland', 'north carolina', 'netherlands',\n",
       "       'germany', 'europe', 'costa rica', 'cascadia', 'australia',\n",
       "       'greece', 'canae', 'new york', 'ireland', 'korea', 'california',\n",
       "       'japan', 'iceland', 'canada`', 'scotland', 'denmark',\n",
       "       'switzerland', 'new jersey', 'indonesia', 'the netherlands',\n",
       "       'endland', 'atlantis', 'alaska', 'singapore', 'china', 'taiwan',\n",
       "       'hong kong', 'spain', 'sweden', 'narnia'], dtype=object)"
      ]
     },
     "execution_count": 1462,
     "metadata": {},
     "output_type": "execute_result"
    }
   ],
   "source": [
    "data['country'].unique()"
   ]
  },
  {
   "cell_type": "code",
   "execution_count": 1463,
   "metadata": {},
   "outputs": [],
   "source": [
    "# also correcting other values\n",
    "data['country']=data['country'].replace({'the netherlands':'netherlands','canada`':'canada','north carolina':'california','endland':'england','europe':'USA'})"
   ]
  },
  {
   "cell_type": "code",
   "execution_count": 1464,
   "metadata": {},
   "outputs": [
    {
     "data": {
      "text/plain": [
       "array([nan, 'USA', 'canada', 'united kingdom', 'england', 'mexico',\n",
       "       'america', 'france', 'finland', 'california', 'netherlands',\n",
       "       'germany', 'costa rica', 'cascadia', 'australia', 'greece',\n",
       "       'canae', 'new york', 'ireland', 'korea', 'japan', 'iceland',\n",
       "       'scotland', 'denmark', 'switzerland', 'new jersey', 'indonesia',\n",
       "       'atlantis', 'alaska', 'singapore', 'china', 'taiwan', 'hong kong',\n",
       "       'spain', 'sweden', 'narnia'], dtype=object)"
      ]
     },
     "execution_count": 1464,
     "metadata": {},
     "output_type": "execute_result"
    }
   ],
   "source": [
    "data['country'].unique() # NOW its better"
   ]
  },
  {
   "cell_type": "code",
   "execution_count": 1465,
   "metadata": {},
   "outputs": [],
   "source": [
    "# fill missing values with column mode << USA\n",
    "data['country'] = data['country'].fillna('USA')"
   ]
  },
  {
   "cell_type": "code",
   "execution_count": 1466,
   "metadata": {},
   "outputs": [
    {
     "data": {
      "text/plain": [
       "0"
      ]
     },
     "execution_count": 1466,
     "metadata": {},
     "output_type": "execute_result"
    }
   ],
   "source": [
    "# checking\n",
    "data['country'].isnull().sum()"
   ]
  },
  {
   "cell_type": "markdown",
   "metadata": {},
   "source": [
    "### 9 - clean ` area` column\n",
    "> tip : area column has the same problem as country columns , but looking at all it's unique values may give us another way to deal with it rather than try to fix it"
   ]
  },
  {
   "cell_type": "code",
   "execution_count": 1467,
   "metadata": {},
   "outputs": [
    {
     "data": {
      "text/plain": [
       "array([nan, 'NM', 'Virginia', 'or', 'exton pa', 'Colorado ', 'ontario',\n",
       "       'Ontario', 'Wa', 'Quebec', 'NY', 'California', 'Texas', 'NEW YORK',\n",
       "       'CO', 'IN', 'MN', 'aberdeenshire', 'Alberta', 'Wisconsin, 53705',\n",
       "       'RI', 'NC', 'Scotland', 'minnesota', 'Michigan', 'Florida',\n",
       "       'New Jersey', 'VA', 'Colorado', 'Los Angeles, California', 'CA',\n",
       "       'New York ', 'Chicago, Illinois', 'Nj', 'Wisconsin', 'Minnesota ',\n",
       "       'London', 'mn', 'TEXAS', 'Illinois', 'District of Columbia',\n",
       "       'Washington', 'Massachusetts ', 'OR', 'Montana', 'New York',\n",
       "       'massachusetts', 'Abu Dhabi', 'TX', 'Arizona', 'Dc', 'yukon',\n",
       "       'Pennsylvania ', 'MD', 'Ohio', 'Alberta ', 'OXFORDSHIRE', 'DC',\n",
       "       'Iowa', 'Mn', 'TN', 'BC', 'Maryland', 'MI', 'Wisconsin ', 'alaska',\n",
       "       'Ny', 'Colorado, Jefferson county ', 'Louisiana', 'pa',\n",
       "       'CO, Larimer County', 'Nebraska ', 'Oregon', 'UT', 'ny',\n",
       "       'Pennsylvania', 'CDMX', 'north carolina', 'Tennessee ', 'Texas ',\n",
       "       'Knox county, Tennessee', 'New Mexico', 'Maine', 'maine',\n",
       "       'Virginia, Arlington', 'WA', 'MO', 'Illinois ', 'Mi', 'MA',\n",
       "       'Alaska', 'New York, NY', 'Il', 'PA', 'New Hampshire ',\n",
       "       'Washington ', 'Massachusetts', 'Georgia', 'IL', 'Oregon ',\n",
       "       'Washington, Clark ', 'NE', 'Oklahoma', 'SC', 'Nebraska', 'mi',\n",
       "       'Nevada', 'va', 'California ', 'vancouver, bc',\n",
       "       'Oregon - but will be in Washington for Halloween', 'Ri',\n",
       "       'Washington, King', 'Ca', 'wa', 'md', 'new york', 'Rhode island',\n",
       "       'VT, Chittenden', 'North Carolina', 'pennsylvania', 'PEnnsylvania',\n",
       "       'Alabama', 'GA', 'FL, Orange County', 'Nope', 'manitoba',\n",
       "       'colorado', 'california ', 'South Carolina', 'california',\n",
       "       'Baja California', 'illinois', 'Santa Cruz County, California',\n",
       "       'MARYLAND', 'NJ', 'North Dakota',\n",
       "       'Pennsylvania, Montgomery County', 'Astoria NY', 'Michigan ', 'ca',\n",
       "       'Kansas ', 'sk', 'Missouri', 'Oxfordshire', 'British Columbia',\n",
       "       'West Virginia', 'Harris County, Texas', 'USA ', 'ohio', 'ma',\n",
       "       'nc', 'Minnesota', 'Bc', 'oregon', 'philadelphia', 'Kentucky',\n",
       "       'HI', 'South Holland', 'Derbyshire', 'hesse',\n",
       "       'Massachusetts, Plymouth county', 'hi', 'Co', 'Cali', 'vt',\n",
       "       'CA, Alameda', 'Utah', 'FL', 'Michigan, Shiawassee County',\n",
       "       'Newfoundland', 'Indiana', 'wisconsin', 'Idaho ada', 'La',\n",
       "       'America', 'Hawaii', 'California, Alameda', 'Az', 'VT', 'AZ',\n",
       "       'Sub Earth', 'North dakota', 'virginia', 'Ga',\n",
       "       'alameda county, california', 'Greater London', 'bc', 'nm', 'AB',\n",
       "       'WV, Kanawha County ', 'michigan', 'Florida ', 'tx',\n",
       "       'Washington State', 'Sussex', 48, 'Washington, King County',\n",
       "       'San Jose', 'florida', 'Connecticut', 'New Jersey ', 'Orlando, FL',\n",
       "       'ON', 'Saskatchewan', 'South Carolina ', 'texas', 'newfoundland',\n",
       "       'mississippi', 'Oklahoma ', 'washington', 'Manitoba ',\n",
       "       'Manchester', 'cascadia', 'in', 'rhode island', 'Ohio ', 'Pa',\n",
       "       'FL ', 'Ut', 'Sydney ', 'CT',\n",
       "       'oblivion if things keep going this way', 'connecticut',\n",
       "       'British Columbia ', 'Nunya, Bizness, USA', 'OH',\n",
       "       'Washington state', 'Oakland, California',\n",
       "       'Washington, Seattle, king', 'Ontario,  Canada', 'ri',\n",
       "       'phoenix, maricopa county, arizona', 'Merlin', 'NS',\n",
       "       'Washington state, Kitsap County', 'cailifornia', 'oakland,ca',\n",
       "       'QC', 'USA', 'Missouri ', 'Pittsburgh pa',\n",
       "       'Issaquah, WA, King County ', 'Washington, seattle, king',\n",
       "       'Massachussets ', 'Whatcom County, WA', 'Mt', 'NH', 'Michigin',\n",
       "       'Ma', 'KS', 'Oakland County, Michigan', 'Albeqrrta', 'Marne',\n",
       "       'Noord-Holland', 'Tennessee, Knox County', 'Henrico, VA',\n",
       "       'Washington State, King County, City of Seattle', 'Washington, DC',\n",
       "       'nyc', 'Brooklyn', 'qld', 'Santa Barbara co. California',\n",
       "       'Maryland ', 'Ky', 'New Orleans la ', 'colorado, boulder', 'mo',\n",
       "       'COLORADO', 'Nh', 'Greater Manchester', 'Fife, Scotland', 'A',\n",
       "       'Kalamazoo County, MI', 'OREGON', 'Wi', 'Ontario ', 'wv',\n",
       "       'ulster county, NY', 'NJ, Gloucester', 'calif', 'Or', 'tn', 'MS',\n",
       "       'NB', 'Queens', 'Vermont', 'Kildare', 'Vermont ', 'ND',\n",
       "       'tennessee', 'Washington DC', 'Kings, New York ', 'Cook',\n",
       "       'Toronto, Ontario', 'Victoria', 'Virginia ', 'On', 'nova scotia',\n",
       "       'Tehama', 'suffolk county ny', 'Santa Clara County, California',\n",
       "       'louisiana', 'SD', 'Md', 'Missoure', 'IA',\n",
       "       'Colorado larimer county', 'Tokyo', 'New Mexico, USA', 'ont',\n",
       "       'Califor', 'Idaho', 'Kansas', 'NV', 'Brooklyn, kings county ny',\n",
       "       'King County, Washington', 'WI', 'Washington, Island county',\n",
       "       'KwaZulu-Natal', 'Carver county, MN', 'DUTCHESS COUNTY NY', 'Ny ',\n",
       "       'Wyoming ', 'Bristol ', 'british columbia',\n",
       "       'California, San Francisco', 'Glendora, Los Angeles, California',\n",
       "       'Edinburgh', 'Strathclyde', 'Lancasire', 'Ørbæk', 'pr', 'Idf',\n",
       "       'Zuid Holland', 'Osaka', 'Surrey', 'Northern ireland', 'Vaud',\n",
       "       'Arizona ', 'Nova Scotia', 'az', 'see question 2', 'Midlothian',\n",
       "       'Tennessee', 'Durham County, North Carolina',\n",
       "       'Missouri, Miller County', 'Glasgow ', 'ct',\n",
       "       'Cuyahoga County, Ohio', 'Seoul', 'Canada', 'Kanagawa ',\n",
       "       'The Shore', 'Manitoba', 'MD ', 'Devonshire', 'Utah ', 'Tx.',\n",
       "       'maryland', 'PENNSYLVANIA', 'ONTARIO', 'Jakarta', 'kansas',\n",
       "       'Mannheim, Baden-Württemberg ', '|NC', 'Wyoming', 'Rotterdam',\n",
       "       'Ar', 'Arkansas', 'renton,wa ', 'N-Brabant', 'missouri',\n",
       "       'Georgia ', 'Greifswald', 'ar', 'British Columbia, Canada', 'kent',\n",
       "       'Hessen', 'Kentucky ', 'NOYB', 'New york', 'South Dakota',\n",
       "       'Emerald City, Petrolia', 'New York, New York', 'wa, spokane',\n",
       "       'new york ', 'Buncombe County, North Carolina',\n",
       "       'California, San Diego', 'new hampshire',\n",
       "       'California, Ventura County', 'NY, Tompkins County', 'Nj ',\n",
       "       'Arlington, VA', 'Glasgow', 'kentucky', 'alberta', 'Philadelphia',\n",
       "       'Portland, maine', 'sc', 'nh', 'NSW', 'califormia', 'New jersey',\n",
       "       'montana', 'indiana ', 'Mexico city', 'GA - Georgia', 'il', 'WV',\n",
       "       'Oregon, Multnomah County', 'Vancouver, Wa', 'Nc', 'Atlanta, GA',\n",
       "       'Washington state ', 'Singapore', 'west virginia',\n",
       "       'North carolina', 'KY', 'United States', 'Mo', 'Colorado (CO)',\n",
       "       'Fl', 'wyoming', 'Nm', 'Dona Ana county, New Mexico',\n",
       "       'UT, Salt Lake', 'Ks',\n",
       "       'California, Contra Costa County, Pleasant Hill',\n",
       "       'Shanghai, Chang Ning district ', 'Vt', 'Monroe county',\n",
       "       'Hong Kong', 'Washingto', 'Dublin ',\n",
       "       'California, Mendocino County', 'na', 'madrid', 'Hesse',\n",
       "       'Noord-Brabant', 'Skane', 'Zürich', 'Tree Town, USA',\n",
       "       'New Hampshire', 'Philadelphia, PA',\n",
       "       'Bristol County, Rhode Island', 'georgia',\n",
       "       'Newfoundland and Labrador', 'Dublin', 'Oshawa, Ontario, Canada',\n",
       "       'NL', 'DC ', 'oklahoma', 'NJ; Essex', 'Va', 'Delaware', 'Mich',\n",
       "       'Ia', 'Québec', 'orange county, ca', 'BERKELEY, CA',\n",
       "       'California, USA', 'NYC', 'St. Louis County, Missouri', 'Munster',\n",
       "       'Chicago, IL', 'Philadelphia PA', 'Rappahannock County, VA', 'OK',\n",
       "       'Chicago, IL ', 'Mexico City', 'dc', 'Illinois  ', 'WASHINGTON DC',\n",
       "       'Tn', 'Connecticut ', 'ill', 'Idaho ', 'Stockholm',\n",
       "       'New York County, New York City, New York State', 'Chicago',\n",
       "       'West Yorkshire', 'Berlin', 'arlington, va', 1, 'ur mom',\n",
       "       'Alaska, Matanuska-Susitna Borough', 'utah', 'Marietta, GA',\n",
       "       'Northbrook, IL', 'delaware', 'Tx', 'Ont',\n",
       "       'Northampton County, PA', 'Rhode Island',\n",
       "       'Pa.   Northampton county', 'California, San Diego county',\n",
       "       'Bloomington, IN', 'indiana', 'Quenec', 'Londom', 'nj',\n",
       "       'st. augustine florida', 'illinois ', 'iowa',\n",
       "       \"The Democratic People's Republic of North Carolina\", 'SC ',\n",
       "       'pennsylvania, northampton couny, easton', 'St Louis mo', 'mt',\n",
       "       'Psychotic', 'québec'], dtype=object)"
      ]
     },
     "execution_count": 1467,
     "metadata": {},
     "output_type": "execute_result"
    }
   ],
   "source": [
    "data['state'].unique()"
   ]
  },
  {
   "cell_type": "code",
   "execution_count": 1468,
   "metadata": {},
   "outputs": [],
   "source": [
    "# convert to lower case\n",
    "data['state'] = data['state'].str.lower()\n",
    "# remove trailing white spaces\n",
    "data['state'] = data['state'].str.strip()"
   ]
  },
  {
   "cell_type": "code",
   "execution_count": 1470,
   "metadata": {},
   "outputs": [
    {
     "data": {
      "text/plain": [
       "california              171\n",
       "ca                      128\n",
       "ontario                  79\n",
       "illinois                 72\n",
       "texas                    71\n",
       "                       ... \n",
       "greater manchester        1\n",
       "fife, scotland            1\n",
       "a                         1\n",
       "kalamazoo county, mi      1\n",
       "psychotic                 1\n",
       "Name: state, Length: 329, dtype: int64"
      ]
     },
     "execution_count": 1470,
     "metadata": {},
     "output_type": "execute_result"
    }
   ],
   "source": [
    "data['state'].value_counts()"
   ]
  },
  {
   "cell_type": "code",
   "execution_count": 1471,
   "metadata": {},
   "outputs": [],
   "source": [
    "data['state']=data['state'].replace({'ca':'california','ny':'newyork','ne':'newyork','oregon - but will be in washington for halloween':'washington'})"
   ]
  },
  {
   "cell_type": "code",
   "execution_count": 1472,
   "metadata": {},
   "outputs": [
    {
     "data": {
      "text/plain": [
       "array([nan, 'nm', 'virginia', 'or', 'exton pa', 'colorado', 'ontario',\n",
       "       'wa', 'quebec', 'newyork', 'california', 'texas', 'new york', 'co',\n",
       "       'in', 'mn', 'aberdeenshire', 'alberta', 'wisconsin, 53705', 'ri',\n",
       "       'nc', 'scotland', 'minnesota', 'michigan', 'florida', 'new jersey',\n",
       "       'va', 'los angeles, california', 'chicago, illinois', 'nj',\n",
       "       'wisconsin', 'london', 'illinois', 'district of columbia',\n",
       "       'washington', 'massachusetts', 'montana', 'abu dhabi', 'tx',\n",
       "       'arizona', 'dc', 'yukon', 'pennsylvania', 'md', 'ohio',\n",
       "       'oxfordshire', 'iowa', 'tn', 'bc', 'maryland', 'mi', 'alaska',\n",
       "       'colorado, jefferson county', 'louisiana', 'pa',\n",
       "       'co, larimer county', 'nebraska', 'oregon', 'ut', 'cdmx',\n",
       "       'north carolina', 'tennessee', 'knox county, tennessee',\n",
       "       'new mexico', 'maine', 'virginia, arlington', 'mo', 'ma',\n",
       "       'new york, ny', 'il', 'new hampshire', 'georgia',\n",
       "       'washington, clark', 'oklahoma', 'sc', 'nevada', 'vancouver, bc',\n",
       "       'washington, king', 'rhode island', 'vt, chittenden', 'alabama',\n",
       "       'ga', 'fl, orange county', 'nope', 'manitoba', 'south carolina',\n",
       "       'baja california', 'santa cruz county, california', 'north dakota',\n",
       "       'pennsylvania, montgomery county', 'astoria ny', 'kansas', 'sk',\n",
       "       'missouri', 'british columbia', 'west virginia',\n",
       "       'harris county, texas', 'usa', 'philadelphia', 'kentucky', 'hi',\n",
       "       'south holland', 'derbyshire', 'hesse',\n",
       "       'massachusetts, plymouth county', 'cali', 'vt', 'ca, alameda',\n",
       "       'utah', 'fl', 'michigan, shiawassee county', 'newfoundland',\n",
       "       'indiana', 'idaho ada', 'la', 'america', 'hawaii',\n",
       "       'california, alameda', 'az', 'sub earth',\n",
       "       'alameda county, california', 'greater london', 'ab',\n",
       "       'wv, kanawha county', 'washington state', 'sussex',\n",
       "       'washington, king county', 'san jose', 'connecticut',\n",
       "       'orlando, fl', 'on', 'saskatchewan', 'mississippi', 'manchester',\n",
       "       'cascadia', 'sydney', 'ct',\n",
       "       'oblivion if things keep going this way', 'nunya, bizness, usa',\n",
       "       'oh', 'oakland, california', 'washington, seattle, king',\n",
       "       'ontario,  canada', 'phoenix, maricopa county, arizona', 'merlin',\n",
       "       'ns', 'washington state, kitsap county', 'cailifornia',\n",
       "       'oakland,ca', 'qc', 'pittsburgh pa', 'issaquah, wa, king county',\n",
       "       'massachussets', 'whatcom county, wa', 'mt', 'nh', 'michigin',\n",
       "       'ks', 'oakland county, michigan', 'albeqrrta', 'marne',\n",
       "       'noord-holland', 'tennessee, knox county', 'henrico, va',\n",
       "       'washington state, king county, city of seattle', 'washington, dc',\n",
       "       'nyc', 'brooklyn', 'qld', 'santa barbara co. california', 'ky',\n",
       "       'new orleans la', 'colorado, boulder', 'greater manchester',\n",
       "       'fife, scotland', 'a', 'kalamazoo county, mi', 'wi', 'wv',\n",
       "       'ulster county, ny', 'nj, gloucester', 'calif', 'ms', 'nb',\n",
       "       'queens', 'vermont', 'kildare', 'nd', 'washington dc',\n",
       "       'kings, new york', 'cook', 'toronto, ontario', 'victoria',\n",
       "       'nova scotia', 'tehama', 'suffolk county ny',\n",
       "       'santa clara county, california', 'sd', 'missoure', 'ia',\n",
       "       'colorado larimer county', 'tokyo', 'new mexico, usa', 'ont',\n",
       "       'califor', 'idaho', 'nv', 'brooklyn, kings county ny',\n",
       "       'king county, washington', 'washington, island county',\n",
       "       'kwazulu-natal', 'carver county, mn', 'dutchess county ny',\n",
       "       'wyoming', 'bristol', 'california, san francisco',\n",
       "       'glendora, los angeles, california', 'edinburgh', 'strathclyde',\n",
       "       'lancasire', 'ørbæk', 'pr', 'idf', 'zuid holland', 'osaka',\n",
       "       'surrey', 'northern ireland', 'vaud', 'see question 2',\n",
       "       'midlothian', 'durham county, north carolina',\n",
       "       'missouri, miller county', 'glasgow', 'cuyahoga county, ohio',\n",
       "       'seoul', 'canada', 'kanagawa', 'the shore', 'devonshire', 'tx.',\n",
       "       'jakarta', 'mannheim, baden-württemberg', '|nc', 'rotterdam', 'ar',\n",
       "       'arkansas', 'renton,wa', 'n-brabant', 'greifswald',\n",
       "       'british columbia, canada', 'kent', 'hessen', 'noyb',\n",
       "       'south dakota', 'emerald city, petrolia', 'new york, new york',\n",
       "       'wa, spokane', 'buncombe county, north carolina',\n",
       "       'california, san diego', 'california, ventura county',\n",
       "       'ny, tompkins county', 'arlington, va', 'portland, maine', 'nsw',\n",
       "       'califormia', 'mexico city', 'ga - georgia',\n",
       "       'oregon, multnomah county', 'vancouver, wa', 'atlanta, ga',\n",
       "       'singapore', 'united states', 'colorado (co)',\n",
       "       'dona ana county, new mexico', 'ut, salt lake',\n",
       "       'california, contra costa county, pleasant hill',\n",
       "       'shanghai, chang ning district', 'monroe county', 'hong kong',\n",
       "       'washingto', 'dublin', 'california, mendocino county', 'na',\n",
       "       'madrid', 'noord-brabant', 'skane', 'zürich', 'tree town, usa',\n",
       "       'philadelphia, pa', 'bristol county, rhode island',\n",
       "       'newfoundland and labrador', 'oshawa, ontario, canada', 'nl',\n",
       "       'nj; essex', 'delaware', 'mich', 'québec', 'orange county, ca',\n",
       "       'berkeley, ca', 'california, usa', 'st. louis county, missouri',\n",
       "       'munster', 'chicago, il', 'philadelphia pa',\n",
       "       'rappahannock county, va', 'ok', 'ill', 'stockholm',\n",
       "       'new york county, new york city, new york state', 'chicago',\n",
       "       'west yorkshire', 'berlin', 'ur mom',\n",
       "       'alaska, matanuska-susitna borough', 'marietta, ga',\n",
       "       'northbrook, il', 'northampton county, pa',\n",
       "       'pa.   northampton county', 'california, san diego county',\n",
       "       'bloomington, in', 'quenec', 'londom', 'st. augustine florida',\n",
       "       \"the democratic people's republic of north carolina\",\n",
       "       'pennsylvania, northampton couny, easton', 'st louis mo',\n",
       "       'psychotic'], dtype=object)"
      ]
     },
     "execution_count": 1472,
     "metadata": {},
     "output_type": "execute_result"
    }
   ],
   "source": [
    "data['state'].unique()"
   ]
  },
  {
   "cell_type": "code",
   "execution_count": 1473,
   "metadata": {},
   "outputs": [
    {
     "data": {
      "text/plain": [
       "0    california\n",
       "Name: state, dtype: object"
      ]
     },
     "execution_count": 1473,
     "metadata": {},
     "output_type": "execute_result"
    }
   ],
   "source": [
    "data['state'].mode()"
   ]
  },
  {
   "cell_type": "code",
   "execution_count": 1474,
   "metadata": {},
   "outputs": [
    {
     "data": {
      "text/plain": [
       "{'america',\n",
       " 'california',\n",
       " 'canada',\n",
       " 'canae',\n",
       " 'cascadia',\n",
       " 'china',\n",
       " 'costa rica',\n",
       " 'france',\n",
       " 'greece',\n",
       " 'iceland',\n",
       " 'mexico',\n",
       " 'scotland'}"
      ]
     },
     "execution_count": 1474,
     "metadata": {},
     "output_type": "execute_result"
    }
   ],
   "source": [
    "set([x for x in data['country'] if 'c' in str(x)]) "
   ]
  },
  {
   "cell_type": "code",
   "execution_count": 1475,
   "metadata": {},
   "outputs": [],
   "source": [
    "calif = [x for x in data['state'] if (('c' in str(x) or 'c' in str(x)) and 'chig' not in str(x)\\\n",
    "     and 'couny' not in str(x) and 'cuy' not in str(x) and 'col' not in str(x) )]"
   ]
  },
  {
   "cell_type": "code",
   "execution_count": 1476,
   "metadata": {},
   "outputs": [],
   "source": [
    "data['state'] = data['state'].replace(to_replace = calif, value = 'california')"
   ]
  },
  {
   "cell_type": "code",
   "execution_count": 1477,
   "metadata": {},
   "outputs": [
    {
     "data": {
      "text/plain": [
       "array([nan, 'nm', 'virginia', 'or', 'exton pa', 'colorado', 'ontario',\n",
       "       'wa', 'california', 'newyork', 'texas', 'new york', 'in', 'mn',\n",
       "       'aberdeenshire', 'alberta', 'ri', 'minnesota', 'michigan',\n",
       "       'florida', 'new jersey', 'va', 'nj', 'london', 'illinois',\n",
       "       'district of columbia', 'washington', 'montana', 'abu dhabi', 'tx',\n",
       "       'arizona', 'yukon', 'pennsylvania', 'md', 'ohio', 'oxfordshire',\n",
       "       'iowa', 'tn', 'maryland', 'mi', 'alaska',\n",
       "       'colorado, jefferson county', 'louisiana', 'pa', 'nebraska',\n",
       "       'oregon', 'ut', 'tennessee', 'maine', 'virginia, arlington', 'mo',\n",
       "       'ma', 'new york, ny', 'il', 'new hampshire', 'georgia', 'oklahoma',\n",
       "       'nevada', 'washington, king', 'rhode island', 'alabama', 'ga',\n",
       "       'nope', 'manitoba', 'north dakota', 'astoria ny', 'kansas', 'sk',\n",
       "       'missouri', 'british columbia', 'west virginia', 'usa',\n",
       "       'philadelphia', 'hi', 'south holland', 'derbyshire', 'hesse', 'vt',\n",
       "       'utah', 'fl', 'michigan, shiawassee county', 'newfoundland',\n",
       "       'indiana', 'idaho ada', 'la', 'hawaii', 'az', 'sub earth',\n",
       "       'greater london', 'ab', 'washington state', 'sussex', 'san jose',\n",
       "       'orlando, fl', 'on', 'mississippi', 'sydney',\n",
       "       'oblivion if things keep going this way', 'nunya, bizness, usa',\n",
       "       'oh', 'washington, seattle, king', 'merlin', 'ns', 'pittsburgh pa',\n",
       "       'mt', 'nh', 'michigin', 'ks', 'oakland county, michigan',\n",
       "       'albeqrrta', 'marne', 'noord-holland', 'brooklyn', 'qld', 'ky',\n",
       "       'new orleans la', 'colorado, boulder', 'a', 'wi', 'wv', 'ms', 'nb',\n",
       "       'queens', 'vermont', 'kildare', 'nd', 'kings, new york',\n",
       "       'toronto, ontario', 'tehama', 'sd', 'missoure', 'ia',\n",
       "       'colorado larimer county', 'tokyo', 'ont', 'idaho', 'nv',\n",
       "       'kwazulu-natal', 'wyoming', 'bristol', 'edinburgh', 'ørbæk', 'pr',\n",
       "       'idf', 'zuid holland', 'osaka', 'surrey', 'northern ireland',\n",
       "       'vaud', 'see question 2', 'midlothian', 'glasgow',\n",
       "       'cuyahoga county, ohio', 'seoul', 'kanagawa', 'the shore',\n",
       "       'devonshire', 'tx.', 'jakarta', 'mannheim, baden-württemberg',\n",
       "       'rotterdam', 'ar', 'arkansas', 'renton,wa', 'n-brabant',\n",
       "       'greifswald', 'british columbia, canada', 'kent', 'hessen', 'noyb',\n",
       "       'south dakota', 'new york, new york', 'wa, spokane',\n",
       "       'arlington, va', 'portland, maine', 'nsw', 'ga - georgia',\n",
       "       'atlanta, ga', 'singapore', 'united states', 'colorado (co)',\n",
       "       'ut, salt lake', 'hong kong', 'washingto', 'dublin', 'na',\n",
       "       'madrid', 'noord-brabant', 'skane', 'tree town, usa',\n",
       "       'philadelphia, pa', 'newfoundland and labrador', 'nl', 'nj; essex',\n",
       "       'delaware', 'munster', 'philadelphia pa', 'ok', 'ill',\n",
       "       'west yorkshire', 'berlin', 'ur mom',\n",
       "       'alaska, matanuska-susitna borough', 'marietta, ga',\n",
       "       'northbrook, il', 'bloomington, in', 'londom',\n",
       "       'st. augustine florida', 'pennsylvania, northampton couny, easton',\n",
       "       'st louis mo'], dtype=object)"
      ]
     },
     "execution_count": 1477,
     "metadata": {},
     "output_type": "execute_result"
    }
   ],
   "source": [
    "data['state'].unique()"
   ]
  },
  {
   "cell_type": "code",
   "execution_count": 1478,
   "metadata": {},
   "outputs": [
    {
     "data": {
      "text/plain": [
       "california           655\n",
       "ontario               79\n",
       "illinois              72\n",
       "texas                 71\n",
       "oregon                62\n",
       "                    ... \n",
       "colorado, boulder      1\n",
       "new orleans la         1\n",
       "qld                    1\n",
       "brooklyn               1\n",
       "st louis mo            1\n",
       "Name: state, Length: 209, dtype: int64"
      ]
     },
     "execution_count": 1478,
     "metadata": {},
     "output_type": "execute_result"
    }
   ],
   "source": [
    "data['state'].value_counts()"
   ]
  },
  {
   "cell_type": "code",
   "execution_count": 1479,
   "metadata": {},
   "outputs": [
    {
     "data": {
      "text/plain": [
       "{'aberdeenshire',\n",
       " 'alaska, matanuska-susitna borough',\n",
       " 'arizona',\n",
       " 'arkansas',\n",
       " 'arlington, va',\n",
       " 'astoria ny',\n",
       " 'atlanta, ga',\n",
       " 'berlin',\n",
       " 'bloomington, in',\n",
       " 'british columbia, canada',\n",
       " 'brooklyn',\n",
       " 'california',\n",
       " 'colorado larimer county',\n",
       " 'colorado, jefferson county',\n",
       " 'cuyahoga county, ohio',\n",
       " 'devonshire',\n",
       " 'dublin',\n",
       " 'edinburgh',\n",
       " 'exton pa',\n",
       " 'greater london',\n",
       " 'hessen',\n",
       " 'hong kong',\n",
       " 'illinois',\n",
       " 'in',\n",
       " 'indiana',\n",
       " 'kanagawa',\n",
       " 'kansas',\n",
       " 'kent',\n",
       " 'kings, new york',\n",
       " 'kwazulu-natal',\n",
       " 'londom',\n",
       " 'london',\n",
       " 'louisiana',\n",
       " 'maine',\n",
       " 'manitoba',\n",
       " 'mannheim, baden-württemberg',\n",
       " 'marne',\n",
       " 'maryland',\n",
       " 'merlin',\n",
       " 'michigan',\n",
       " 'michigan, shiawassee county',\n",
       " 'michigin',\n",
       " 'midlothian',\n",
       " 'minnesota',\n",
       " 'mn',\n",
       " 'montana',\n",
       " 'munster',\n",
       " 'n-brabant',\n",
       " 'na',\n",
       " nan,\n",
       " 'nb',\n",
       " 'nd',\n",
       " 'nebraska',\n",
       " 'nevada',\n",
       " 'new hampshire',\n",
       " 'new jersey',\n",
       " 'new orleans la',\n",
       " 'new york',\n",
       " 'new york, new york',\n",
       " 'new york, ny',\n",
       " 'newfoundland',\n",
       " 'newfoundland and labrador',\n",
       " 'newyork',\n",
       " 'nh',\n",
       " 'nj',\n",
       " 'nj; essex',\n",
       " 'nl',\n",
       " 'nm',\n",
       " 'noord-brabant',\n",
       " 'noord-holland',\n",
       " 'nope',\n",
       " 'north dakota',\n",
       " 'northbrook, il',\n",
       " 'northern ireland',\n",
       " 'noyb',\n",
       " 'ns',\n",
       " 'nsw',\n",
       " 'nunya, bizness, usa',\n",
       " 'nv',\n",
       " 'oakland county, michigan',\n",
       " 'oblivion if things keep going this way',\n",
       " 'on',\n",
       " 'ont',\n",
       " 'ontario',\n",
       " 'oregon',\n",
       " 'orlando, fl',\n",
       " 'pennsylvania',\n",
       " 'pennsylvania, northampton couny, easton',\n",
       " 'portland, maine',\n",
       " 'queens',\n",
       " 'renton,wa',\n",
       " 'rhode island',\n",
       " 'san jose',\n",
       " 'see question 2',\n",
       " 'singapore',\n",
       " 'skane',\n",
       " 'south holland',\n",
       " 'st. augustine florida',\n",
       " 'sydney',\n",
       " 'tennessee',\n",
       " 'tn',\n",
       " 'toronto, ontario',\n",
       " 'tree town, usa',\n",
       " 'united states',\n",
       " 'vermont',\n",
       " 'virginia',\n",
       " 'virginia, arlington',\n",
       " 'wa, spokane',\n",
       " 'washingto',\n",
       " 'washington',\n",
       " 'washington state',\n",
       " 'washington, king',\n",
       " 'washington, seattle, king',\n",
       " 'west virginia',\n",
       " 'wyoming',\n",
       " 'yukon',\n",
       " 'zuid holland'}"
      ]
     },
     "execution_count": 1479,
     "metadata": {},
     "output_type": "execute_result"
    }
   ],
   "source": [
    "set([x for x in data['state'] if 'n' in str(x)]) "
   ]
  },
  {
   "cell_type": "code",
   "execution_count": 1480,
   "metadata": {},
   "outputs": [],
   "source": [
    "ney = [x for x in data['state'] if (('n' in str(x) or 'n' in str(x)) and 'wash' not in str(x)\\\n",
    "     and 'wash')]"
   ]
  },
  {
   "cell_type": "code",
   "execution_count": 1481,
   "metadata": {},
   "outputs": [],
   "source": [
    "data['state'] = data['state'].replace(to_replace = ney, value = 'newyork')"
   ]
  },
  {
   "cell_type": "code",
   "execution_count": 1482,
   "metadata": {},
   "outputs": [
    {
     "data": {
      "text/plain": [
       "array(['newyork', 'or', 'colorado', 'wa', 'texas', 'alberta', 'ri',\n",
       "       'florida', 'va', 'district of columbia', 'washington', 'abu dhabi',\n",
       "       'tx', 'md', 'ohio', 'oxfordshire', 'iowa', 'mi', 'alaska', 'pa',\n",
       "       'ut', 'mo', 'ma', 'il', 'georgia', 'oklahoma', 'washington, king',\n",
       "       'alabama', 'ga', 'sk', 'missouri', 'british columbia', 'usa',\n",
       "       'philadelphia', 'hi', 'derbyshire', 'hesse', 'vt', 'utah', 'fl',\n",
       "       'idaho ada', 'la', 'hawaii', 'az', 'sub earth', 'ab',\n",
       "       'washington state', 'sussex', 'mississippi', 'oh',\n",
       "       'washington, seattle, king', 'pittsburgh pa', 'mt', 'ks',\n",
       "       'albeqrrta', 'qld', 'ky', 'colorado, boulder', 'a', 'wi', 'wv',\n",
       "       'ms', 'kildare', 'tehama', 'sd', 'missoure', 'ia', 'tokyo',\n",
       "       'idaho', 'bristol', 'ørbæk', 'pr', 'idf', 'osaka', 'surrey',\n",
       "       'vaud', 'glasgow', 'seoul', 'the shore', 'tx.', 'jakarta',\n",
       "       'rotterdam', 'ar', 'greifswald', 'south dakota', 'ga - georgia',\n",
       "       'colorado (co)', 'ut, salt lake', 'washingto', 'madrid',\n",
       "       'philadelphia, pa', 'delaware', 'philadelphia pa', 'ok', 'ill',\n",
       "       'west yorkshire', 'ur mom', 'marietta, ga', 'st louis mo'],\n",
       "      dtype=object)"
      ]
     },
     "execution_count": 1482,
     "metadata": {},
     "output_type": "execute_result"
    }
   ],
   "source": [
    "data['state'].unique()"
   ]
  },
  {
   "cell_type": "code",
   "execution_count": 1483,
   "metadata": {},
   "outputs": [
    {
     "data": {
      "text/plain": [
       "{'delaware',\n",
       " 'glasgow',\n",
       " 'greifswald',\n",
       " 'hawaii',\n",
       " 'iowa',\n",
       " 'newyork',\n",
       " 'wa',\n",
       " 'washingto',\n",
       " 'washington',\n",
       " 'washington state',\n",
       " 'washington, king',\n",
       " 'washington, seattle, king',\n",
       " 'west yorkshire',\n",
       " 'wi',\n",
       " 'wv'}"
      ]
     },
     "execution_count": 1483,
     "metadata": {},
     "output_type": "execute_result"
    }
   ],
   "source": [
    "set([x for x in data['state'] if 'w' in str(x)]) "
   ]
  },
  {
   "cell_type": "code",
   "execution_count": 1484,
   "metadata": {},
   "outputs": [],
   "source": [
    "wash= [x for x in data['state'] if (('w' in str(x) or 'w' in str(x)) and 'new' not in str(x)\\\n",
    "     and 'hai')]"
   ]
  },
  {
   "cell_type": "code",
   "execution_count": 1485,
   "metadata": {},
   "outputs": [],
   "source": [
    "data['state'] = data['state'].replace(to_replace = wash, value = 'washington')"
   ]
  },
  {
   "cell_type": "code",
   "execution_count": 1486,
   "metadata": {},
   "outputs": [
    {
     "data": {
      "text/plain": [
       "array(['newyork', 'or', 'colorado', 'washington', 'texas', 'alberta',\n",
       "       'ri', 'florida', 'va', 'district of columbia', 'abu dhabi', 'tx',\n",
       "       'md', 'ohio', 'oxfordshire', 'mi', 'alaska', 'pa', 'ut', 'mo',\n",
       "       'ma', 'il', 'georgia', 'oklahoma', 'alabama', 'ga', 'sk',\n",
       "       'missouri', 'british columbia', 'usa', 'philadelphia', 'hi',\n",
       "       'derbyshire', 'hesse', 'vt', 'utah', 'fl', 'idaho ada', 'la', 'az',\n",
       "       'sub earth', 'ab', 'sussex', 'mississippi', 'oh', 'pittsburgh pa',\n",
       "       'mt', 'ks', 'albeqrrta', 'qld', 'ky', 'colorado, boulder', 'a',\n",
       "       'ms', 'kildare', 'tehama', 'sd', 'missoure', 'ia', 'tokyo',\n",
       "       'idaho', 'bristol', 'ørbæk', 'pr', 'idf', 'osaka', 'surrey',\n",
       "       'vaud', 'seoul', 'the shore', 'tx.', 'jakarta', 'rotterdam', 'ar',\n",
       "       'south dakota', 'ga - georgia', 'colorado (co)', 'ut, salt lake',\n",
       "       'madrid', 'philadelphia, pa', 'philadelphia pa', 'ok', 'ill',\n",
       "       'ur mom', 'marietta, ga', 'st louis mo'], dtype=object)"
      ]
     },
     "execution_count": 1486,
     "metadata": {},
     "output_type": "execute_result"
    }
   ],
   "source": [
    "data['state'].unique()"
   ]
  },
  {
   "cell_type": "code",
   "execution_count": 1487,
   "metadata": {},
   "outputs": [],
   "source": [
    "# correcting unusl valus\n",
    "data['state'] = data['state'].replace({'sub earth':'california','usa':'california','ørbæk':'california','ur mom':'california','ill':'california','ok':'california'})"
   ]
  },
  {
   "cell_type": "code",
   "execution_count": 1488,
   "metadata": {},
   "outputs": [
    {
     "data": {
      "text/plain": [
       "array(['newyork', 'or', 'colorado', 'washington', 'texas', 'alberta',\n",
       "       'ri', 'florida', 'va', 'district of columbia', 'abu dhabi', 'tx',\n",
       "       'md', 'ohio', 'oxfordshire', 'mi', 'alaska', 'pa', 'ut', 'mo',\n",
       "       'ma', 'il', 'georgia', 'oklahoma', 'alabama', 'ga', 'sk',\n",
       "       'missouri', 'british columbia', 'california', 'philadelphia', 'hi',\n",
       "       'derbyshire', 'hesse', 'vt', 'utah', 'fl', 'idaho ada', 'la', 'az',\n",
       "       'ab', 'sussex', 'mississippi', 'oh', 'pittsburgh pa', 'mt', 'ks',\n",
       "       'albeqrrta', 'qld', 'ky', 'colorado, boulder', 'a', 'ms',\n",
       "       'kildare', 'tehama', 'sd', 'missoure', 'ia', 'tokyo', 'idaho',\n",
       "       'bristol', 'pr', 'idf', 'osaka', 'surrey', 'vaud', 'seoul',\n",
       "       'the shore', 'tx.', 'jakarta', 'rotterdam', 'ar', 'south dakota',\n",
       "       'ga - georgia', 'colorado (co)', 'ut, salt lake', 'madrid',\n",
       "       'philadelphia, pa', 'philadelphia pa', 'marietta, ga',\n",
       "       'st louis mo'], dtype=object)"
      ]
     },
     "execution_count": 1488,
     "metadata": {},
     "output_type": "execute_result"
    }
   ],
   "source": [
    "data['state'].unique()"
   ]
  },
  {
   "cell_type": "code",
   "execution_count": 1489,
   "metadata": {},
   "outputs": [
    {
     "data": {
      "text/plain": [
       "{'america', 'denmark', 'germany', 'mexico', 'united kingdom'}"
      ]
     },
     "execution_count": 1489,
     "metadata": {},
     "output_type": "execute_result"
    }
   ],
   "source": [
    "set([x for x in data['country'] if 'm' in str(x)]) "
   ]
  },
  {
   "cell_type": "code",
   "execution_count": 1490,
   "metadata": {},
   "outputs": [],
   "source": [
    "mad= [x for x in data['state'] if (('m' in str(x) or 'm' in str(x)) and 'ger' not in str(x)\\\n",
    "     and 'rica' not in str(x) and 'den' not in str(x) and 'united kingdom' not in str(x) and 'mexico' not in str(x) and 'america' not in str(x))]"
   ]
  },
  {
   "cell_type": "code",
   "execution_count": 1491,
   "metadata": {},
   "outputs": [],
   "source": [
    "data['state'] = data['state'].replace(to_replace = mad, value = 'madrid')"
   ]
  },
  {
   "cell_type": "code",
   "execution_count": 1492,
   "metadata": {},
   "outputs": [
    {
     "data": {
      "text/plain": [
       "array(['newyork', 'or', 'colorado', 'washington', 'texas', 'alberta',\n",
       "       'ri', 'florida', 'va', 'madrid', 'abu dhabi', 'tx', 'ohio',\n",
       "       'oxfordshire', 'alaska', 'pa', 'ut', 'il', 'georgia', 'ga', 'sk',\n",
       "       'california', 'philadelphia', 'hi', 'derbyshire', 'hesse', 'vt',\n",
       "       'utah', 'fl', 'idaho ada', 'la', 'az', 'ab', 'sussex', 'oh',\n",
       "       'pittsburgh pa', 'ks', 'albeqrrta', 'qld', 'ky',\n",
       "       'colorado, boulder', 'a', 'kildare', 'sd', 'ia', 'tokyo', 'idaho',\n",
       "       'bristol', 'pr', 'idf', 'osaka', 'surrey', 'vaud', 'seoul',\n",
       "       'the shore', 'tx.', 'jakarta', 'ar', 'south dakota',\n",
       "       'ga - georgia', 'colorado (co)', 'ut, salt lake',\n",
       "       'philadelphia, pa', 'philadelphia pa'], dtype=object)"
      ]
     },
     "execution_count": 1492,
     "metadata": {},
     "output_type": "execute_result"
    }
   ],
   "source": [
    "data['state'].unique()"
   ]
  },
  {
   "cell_type": "code",
   "execution_count": 1493,
   "metadata": {},
   "outputs": [],
   "source": [
    "data['state'] = data['state'].replace({'pa':'philadelphia','philadelphia pa':'philadelphia','pittsburgh pa':'philadelphia','philadelphia, pa':'philadelphia'})"
   ]
  },
  {
   "cell_type": "code",
   "execution_count": 1494,
   "metadata": {},
   "outputs": [
    {
     "data": {
      "text/plain": [
       "array(['newyork', 'or', 'colorado', 'washington', 'texas', 'alberta',\n",
       "       'ri', 'florida', 'va', 'madrid', 'abu dhabi', 'tx', 'ohio',\n",
       "       'oxfordshire', 'alaska', 'philadelphia', 'ut', 'il', 'georgia',\n",
       "       'ga', 'sk', 'california', 'hi', 'derbyshire', 'hesse', 'vt',\n",
       "       'utah', 'fl', 'idaho ada', 'la', 'az', 'ab', 'sussex', 'oh', 'ks',\n",
       "       'albeqrrta', 'qld', 'ky', 'colorado, boulder', 'a', 'kildare',\n",
       "       'sd', 'ia', 'tokyo', 'idaho', 'bristol', 'pr', 'idf', 'osaka',\n",
       "       'surrey', 'vaud', 'seoul', 'the shore', 'tx.', 'jakarta', 'ar',\n",
       "       'south dakota', 'ga - georgia', 'colorado (co)', 'ut, salt lake'],\n",
       "      dtype=object)"
      ]
     },
     "execution_count": 1494,
     "metadata": {},
     "output_type": "execute_result"
    }
   ],
   "source": [
    "data['state'].unique()"
   ]
  },
  {
   "cell_type": "code",
   "execution_count": 1495,
   "metadata": {},
   "outputs": [],
   "source": [
    "data['state'] = data['state'].replace({'or':'colorado','oh':'ohio','colorado (co)':'colorado','tx':'texas','ga':'georgia','ga - georgia':'georgia','tx.':'texas','south dakota':'california','surrey':'california','vaud':\"california\",'the shore':'california'})"
   ]
  },
  {
   "cell_type": "code",
   "execution_count": 1496,
   "metadata": {},
   "outputs": [],
   "source": [
    "data['state'] = data['state'].replace({'hi':'ohio','a':'ohio','il':'ohio','idaho':'ohio','ar':'ohio','ia':'ohio','ri':'georgia','va':'philadelphia','vt':'philadelphia','fl':'florida','la':'florida','ks':'tokyo','sk':'tokyo','ky':'tokyo','ut':'california','az':'california','ab':'california','sd':'california','pr':'california','ut, salt lake':'california','idf':'california','qld':'california'})"
   ]
  },
  {
   "cell_type": "code",
   "execution_count": 1497,
   "metadata": {},
   "outputs": [
    {
     "data": {
      "text/plain": [
       "array(['newyork', 'colorado', 'washington', 'texas', 'alberta', 'georgia',\n",
       "       'florida', 'philadelphia', 'madrid', 'abu dhabi', 'ohio',\n",
       "       'oxfordshire', 'alaska', 'california', 'tokyo', 'derbyshire',\n",
       "       'hesse', 'utah', 'idaho ada', 'sussex', 'albeqrrta',\n",
       "       'colorado, boulder', 'kildare', 'bristol', 'osaka', 'seoul',\n",
       "       'jakarta'], dtype=object)"
      ]
     },
     "execution_count": 1497,
     "metadata": {},
     "output_type": "execute_result"
    }
   ],
   "source": [
    "data['state'].unique()"
   ]
  },
  {
   "cell_type": "code",
   "execution_count": 1498,
   "metadata": {},
   "outputs": [
    {
     "data": {
      "text/plain": [
       "0"
      ]
     },
     "execution_count": 1498,
     "metadata": {},
     "output_type": "execute_result"
    }
   ],
   "source": [
    "data['state'].isnull().sum()"
   ]
  },
  {
   "cell_type": "markdown",
   "metadata": {},
   "source": [
    "### 10 - clean ` Q6` columns\n",
    ">- tip : Q6 has all kinds of chocolate bars and questions with three distinct options to choose from (Joy, Meh, Despair).\n",
    "- so all the column that has Q6 is a candy name , so you should go through all these column and you should choose which best value to put in place of these NaNs ( mode, unknown,other ....etc)"
   ]
  },
  {
   "cell_type": "code",
   "execution_count": 1499,
   "metadata": {},
   "outputs": [
    {
     "data": {
      "text/plain": [
       "Index(['going_out', 'gender', 'age', 'country', 'state', '100_grand_bar',\n",
       "       'anonymous_brown_globs_that_come_in_black_and_orange_wrappers',\n",
       "       'any_full_sized_candy_bar', 'black_jacks', 'Q6 | Bonkers (the candy)',\n",
       "       ...\n",
       "       'Q6 | Trail Mix', 'Q6 | Twix',\n",
       "       'Q6 | Vials of pure high fructose corn syrup, for main-lining into your vein',\n",
       "       'Q6 | Vicodin', 'Q6 | Whatchamacallit Bars', 'Q6 | White Bread',\n",
       "       'Q6 | Whole Wheat anything', 'Q6 | York Peppermint Patties', 'dress',\n",
       "       'day'],\n",
       "      dtype='object', length=110)"
      ]
     },
     "execution_count": 1499,
     "metadata": {},
     "output_type": "execute_result"
    }
   ],
   "source": [
    "data.columns"
   ]
  },
  {
   "cell_type": "code",
   "execution_count": 1500,
   "metadata": {},
   "outputs": [
    {
     "data": {
      "text/html": [
       "<div>\n",
       "<style scoped>\n",
       "    .dataframe tbody tr th:only-of-type {\n",
       "        vertical-align: middle;\n",
       "    }\n",
       "\n",
       "    .dataframe tbody tr th {\n",
       "        vertical-align: top;\n",
       "    }\n",
       "\n",
       "    .dataframe thead th {\n",
       "        text-align: right;\n",
       "    }\n",
       "</style>\n",
       "<table border=\"1\" class=\"dataframe\">\n",
       "  <thead>\n",
       "    <tr style=\"text-align: right;\">\n",
       "      <th></th>\n",
       "      <th>going_out</th>\n",
       "      <th>gender</th>\n",
       "      <th>age</th>\n",
       "      <th>country</th>\n",
       "      <th>state</th>\n",
       "      <th>100_grand_bar</th>\n",
       "      <th>anonymous_brown_globs_that_come_in_black_and_orange_wrappers</th>\n",
       "      <th>any_full_sized_candy_bar</th>\n",
       "      <th>black_jacks</th>\n",
       "      <th>Q6 | Bonkers (the candy)</th>\n",
       "      <th>...</th>\n",
       "      <th>Q6 | Trail Mix</th>\n",
       "      <th>Q6 | Twix</th>\n",
       "      <th>Q6 | Vials of pure high fructose corn syrup, for main-lining into your vein</th>\n",
       "      <th>Q6 | Vicodin</th>\n",
       "      <th>Q6 | Whatchamacallit Bars</th>\n",
       "      <th>Q6 | White Bread</th>\n",
       "      <th>Q6 | Whole Wheat anything</th>\n",
       "      <th>Q6 | York Peppermint Patties</th>\n",
       "      <th>dress</th>\n",
       "      <th>day</th>\n",
       "    </tr>\n",
       "  </thead>\n",
       "  <tbody>\n",
       "    <tr>\n",
       "      <th>0</th>\n",
       "      <td>No</td>\n",
       "      <td>Male</td>\n",
       "      <td>41.0</td>\n",
       "      <td>USA</td>\n",
       "      <td>newyork</td>\n",
       "      <td>JOY</td>\n",
       "      <td>DESPAIR</td>\n",
       "      <td>JOY</td>\n",
       "      <td>DESPAIR</td>\n",
       "      <td>MEH</td>\n",
       "      <td>...</td>\n",
       "      <td>DESPAIR</td>\n",
       "      <td>JOY</td>\n",
       "      <td>DESPAIR</td>\n",
       "      <td>DESPAIR</td>\n",
       "      <td>JOY</td>\n",
       "      <td>DESPAIR</td>\n",
       "      <td>DESPAIR</td>\n",
       "      <td>JOY</td>\n",
       "      <td>White and gold</td>\n",
       "      <td>Friday</td>\n",
       "    </tr>\n",
       "  </tbody>\n",
       "</table>\n",
       "<p>1 rows × 110 columns</p>\n",
       "</div>"
      ],
      "text/plain": [
       "  going_out gender   age country    state 100_grand_bar  \\\n",
       "0        No   Male  41.0     USA  newyork           JOY   \n",
       "\n",
       "  anonymous_brown_globs_that_come_in_black_and_orange_wrappers  \\\n",
       "0                                            DESPAIR             \n",
       "\n",
       "  any_full_sized_candy_bar black_jacks Q6 | Bonkers (the candy)  ...  \\\n",
       "0                      JOY     DESPAIR                      MEH  ...   \n",
       "\n",
       "  Q6 | Trail Mix Q6 | Twix  \\\n",
       "0        DESPAIR       JOY   \n",
       "\n",
       "  Q6 | Vials of pure high fructose corn syrup, for main-lining into your vein  \\\n",
       "0                                            DESPAIR                            \n",
       "\n",
       "  Q6 | Vicodin Q6 | Whatchamacallit Bars Q6 | White Bread  \\\n",
       "0      DESPAIR                       JOY          DESPAIR   \n",
       "\n",
       "  Q6 | Whole Wheat anything Q6 | York Peppermint Patties           dress  \\\n",
       "0                   DESPAIR                          JOY  White and gold   \n",
       "\n",
       "      day  \n",
       "0  Friday  \n",
       "\n",
       "[1 rows x 110 columns]"
      ]
     },
     "execution_count": 1500,
     "metadata": {},
     "output_type": "execute_result"
    }
   ],
   "source": [
    "data.mode()"
   ]
  },
  {
   "cell_type": "code",
   "execution_count": 1501,
   "metadata": {},
   "outputs": [],
   "source": [
    "# Q6 :questions on chocolate \n",
    "# fill NAN for every column with column mode\n",
    "data['100_grand_bar'] = data['100_grand_bar'].fillna('JOY')\n",
    "data['anonymous_brown_globs_that_come_in_black_and_orange_wrappers'] = data['anonymous_brown_globs_that_come_in_black_and_orange_wrappers'].fillna('DESPAIR')\n",
    "data['any_full_sized_candy_bar'] = data['any_full_sized_candy_bar'].fillna('JOY')\n",
    "data['black_jacks'] = data['black_jacks'].fillna('DESPAIR')\n",
    "data['Q6 | Trail Mix'] = data['Q6 | Trail Mix'].fillna('MESH')\n",
    "data['Q6 | Trail Mix'] = data['Q6 | Trail Mix'].fillna('DESPAIR')\n",
    "data['Q6 | Twix'] = data['Q6 | Twix'].fillna('JOY')\n",
    "data['Q6 | Vials of pure high fructose corn syrup, for main-lining into your vein'] = data['Q6 | Vials of pure high fructose corn syrup, for main-lining into your vein'].fillna('DESPAIR')\n",
    "data['Q6 | Vicodin'] = data['Q6 | Vicodin'].fillna('DESPAIR')\n",
    "data['Q6 | Whatchamacallit Bars'] = data['Q6 | Whatchamacallit Bars'].fillna('JOY')\n",
    "data['Q6 | White Bread'] = data['Q6 | White Bread'].fillna('DESPAIR')\n",
    "data['Q6 | Whole Wheat anything'] = data['Q6 | Whole Wheat anything'].fillna('DESPAIR')\n",
    "data['Q6 | York Peppermint Patties'] = data['Q6 | York Peppermint Patties'].fillna('JOY')\n"
   ]
  },
  {
   "cell_type": "markdown",
   "metadata": {},
   "source": [
    "### 11 - clean ` dress` column\n",
    ">tip : you should choose which best value to put in place of these NaNs ( mode, unknown,other ....etc)"
   ]
  },
  {
   "cell_type": "code",
   "execution_count": 1502,
   "metadata": {},
   "outputs": [
    {
     "data": {
      "text/plain": [
       "array([nan, 'White and gold', 'Blue and black'], dtype=object)"
      ]
     },
     "execution_count": 1502,
     "metadata": {},
     "output_type": "execute_result"
    }
   ],
   "source": [
    "data['dress'].unique()"
   ]
  },
  {
   "cell_type": "code",
   "execution_count": 1503,
   "metadata": {},
   "outputs": [
    {
     "data": {
      "text/plain": [
       "744"
      ]
     },
     "execution_count": 1503,
     "metadata": {},
     "output_type": "execute_result"
    }
   ],
   "source": [
    "data['dress'].isnull().sum()"
   ]
  },
  {
   "cell_type": "code",
   "execution_count": 1504,
   "metadata": {},
   "outputs": [
    {
     "data": {
      "text/plain": [
       "0    White and gold\n",
       "Name: dress, dtype: object"
      ]
     },
     "execution_count": 1504,
     "metadata": {},
     "output_type": "execute_result"
    }
   ],
   "source": [
    "data['dress'].mode()"
   ]
  },
  {
   "cell_type": "code",
   "execution_count": 1505,
   "metadata": {},
   "outputs": [],
   "source": [
    "data['dress'] = data['dress'].fillna('White and gold')"
   ]
  },
  {
   "cell_type": "code",
   "execution_count": 1506,
   "metadata": {},
   "outputs": [
    {
     "data": {
      "text/plain": [
       "array(['White and gold', 'Blue and black'], dtype=object)"
      ]
     },
     "execution_count": 1506,
     "metadata": {},
     "output_type": "execute_result"
    }
   ],
   "source": [
    "data['dress'].unique()"
   ]
  },
  {
   "cell_type": "code",
   "execution_count": 1507,
   "metadata": {},
   "outputs": [
    {
     "data": {
      "text/plain": [
       "0"
      ]
     },
     "execution_count": 1507,
     "metadata": {},
     "output_type": "execute_result"
    }
   ],
   "source": [
    "data['dress'].isnull().sum()"
   ]
  },
  {
   "cell_type": "markdown",
   "metadata": {},
   "source": [
    "### 12 - clean ` day` column\n",
    ">tip : you should choose which best value to put in place of these NaNs ( mode, unknown,other ....etc)"
   ]
  },
  {
   "cell_type": "code",
   "execution_count": 1508,
   "metadata": {},
   "outputs": [
    {
     "data": {
      "text/plain": [
       "array([nan, 'Sunday', 'Friday'], dtype=object)"
      ]
     },
     "execution_count": 1508,
     "metadata": {},
     "output_type": "execute_result"
    }
   ],
   "source": [
    "data['day'].unique()"
   ]
  },
  {
   "cell_type": "code",
   "execution_count": 1509,
   "metadata": {},
   "outputs": [
    {
     "data": {
      "text/plain": [
       "725"
      ]
     },
     "execution_count": 1509,
     "metadata": {},
     "output_type": "execute_result"
    }
   ],
   "source": [
    "data['day'].isnull().sum()"
   ]
  },
  {
   "cell_type": "code",
   "execution_count": 1510,
   "metadata": {},
   "outputs": [
    {
     "data": {
      "text/plain": [
       "0    Friday\n",
       "Name: day, dtype: object"
      ]
     },
     "execution_count": 1510,
     "metadata": {},
     "output_type": "execute_result"
    }
   ],
   "source": [
    "data['day'].mode()"
   ]
  },
  {
   "cell_type": "code",
   "execution_count": 1511,
   "metadata": {},
   "outputs": [],
   "source": [
    "data['day'] = data['day'].fillna('Friday')"
   ]
  },
  {
   "cell_type": "markdown",
   "metadata": {},
   "source": [
    "### 13 - check\n",
    "> after finish cleaning you should make sure your data is clean and that :\n",
    "- there is no wrong data type\n",
    "- there is no NaN values \n",
    "- all the column are cleaing and ready for the next step `EDA`"
   ]
  },
  {
   "cell_type": "code",
   "execution_count": 1512,
   "metadata": {},
   "outputs": [
    {
     "data": {
      "text/plain": [
       "going_out                       0\n",
       "gender                          0\n",
       "age                             0\n",
       "country                         0\n",
       "state                           0\n",
       "                               ..\n",
       "Q6 | White Bread                0\n",
       "Q6 | Whole Wheat anything       0\n",
       "Q6 | York Peppermint Patties    0\n",
       "dress                           0\n",
       "day                             0\n",
       "Length: 110, dtype: int64"
      ]
     },
     "execution_count": 1512,
     "metadata": {},
     "output_type": "execute_result"
    }
   ],
   "source": [
    "data.isnull().sum()"
   ]
  },
  {
   "cell_type": "code",
   "execution_count": 1513,
   "metadata": {},
   "outputs": [
    {
     "data": {
      "text/plain": [
       "going_out                        object\n",
       "gender                           object\n",
       "age                             float64\n",
       "country                          object\n",
       "state                            object\n",
       "                                 ...   \n",
       "Q6 | White Bread                 object\n",
       "Q6 | Whole Wheat anything        object\n",
       "Q6 | York Peppermint Patties     object\n",
       "dress                            object\n",
       "day                              object\n",
       "Length: 110, dtype: object"
      ]
     },
     "execution_count": 1513,
     "metadata": {},
     "output_type": "execute_result"
    }
   ],
   "source": [
    "data.dtypes"
   ]
  },
  {
   "cell_type": "code",
   "execution_count": 1514,
   "metadata": {},
   "outputs": [
    {
     "data": {
      "text/html": [
       "<div>\n",
       "<style scoped>\n",
       "    .dataframe tbody tr th:only-of-type {\n",
       "        vertical-align: middle;\n",
       "    }\n",
       "\n",
       "    .dataframe tbody tr th {\n",
       "        vertical-align: top;\n",
       "    }\n",
       "\n",
       "    .dataframe thead th {\n",
       "        text-align: right;\n",
       "    }\n",
       "</style>\n",
       "<table border=\"1\" class=\"dataframe\">\n",
       "  <thead>\n",
       "    <tr style=\"text-align: right;\">\n",
       "      <th></th>\n",
       "      <th>going_out</th>\n",
       "      <th>gender</th>\n",
       "      <th>age</th>\n",
       "      <th>country</th>\n",
       "      <th>state</th>\n",
       "      <th>100_grand_bar</th>\n",
       "      <th>anonymous_brown_globs_that_come_in_black_and_orange_wrappers</th>\n",
       "      <th>any_full_sized_candy_bar</th>\n",
       "      <th>black_jacks</th>\n",
       "      <th>Q6 | Bonkers (the candy)</th>\n",
       "      <th>...</th>\n",
       "      <th>Q6 | Trail Mix</th>\n",
       "      <th>Q6 | Twix</th>\n",
       "      <th>Q6 | Vials of pure high fructose corn syrup, for main-lining into your vein</th>\n",
       "      <th>Q6 | Vicodin</th>\n",
       "      <th>Q6 | Whatchamacallit Bars</th>\n",
       "      <th>Q6 | White Bread</th>\n",
       "      <th>Q6 | Whole Wheat anything</th>\n",
       "      <th>Q6 | York Peppermint Patties</th>\n",
       "      <th>dress</th>\n",
       "      <th>day</th>\n",
       "    </tr>\n",
       "  </thead>\n",
       "  <tbody>\n",
       "    <tr>\n",
       "      <th>0</th>\n",
       "      <td>No</td>\n",
       "      <td>Male</td>\n",
       "      <td>41.0</td>\n",
       "      <td>USA</td>\n",
       "      <td>newyork</td>\n",
       "      <td>JOY</td>\n",
       "      <td>DESPAIR</td>\n",
       "      <td>JOY</td>\n",
       "      <td>DESPAIR</td>\n",
       "      <td>NaN</td>\n",
       "      <td>...</td>\n",
       "      <td>MESH</td>\n",
       "      <td>JOY</td>\n",
       "      <td>DESPAIR</td>\n",
       "      <td>DESPAIR</td>\n",
       "      <td>JOY</td>\n",
       "      <td>DESPAIR</td>\n",
       "      <td>DESPAIR</td>\n",
       "      <td>JOY</td>\n",
       "      <td>White and gold</td>\n",
       "      <td>Friday</td>\n",
       "    </tr>\n",
       "    <tr>\n",
       "      <th>1</th>\n",
       "      <td>No</td>\n",
       "      <td>Male</td>\n",
       "      <td>44.0</td>\n",
       "      <td>USA</td>\n",
       "      <td>newyork</td>\n",
       "      <td>MEH</td>\n",
       "      <td>DESPAIR</td>\n",
       "      <td>JOY</td>\n",
       "      <td>MEH</td>\n",
       "      <td>DESPAIR</td>\n",
       "      <td>...</td>\n",
       "      <td>DESPAIR</td>\n",
       "      <td>JOY</td>\n",
       "      <td>DESPAIR</td>\n",
       "      <td>DESPAIR</td>\n",
       "      <td>DESPAIR</td>\n",
       "      <td>DESPAIR</td>\n",
       "      <td>DESPAIR</td>\n",
       "      <td>DESPAIR</td>\n",
       "      <td>White and gold</td>\n",
       "      <td>Sunday</td>\n",
       "    </tr>\n",
       "    <tr>\n",
       "      <th>2</th>\n",
       "      <td>No</td>\n",
       "      <td>Male</td>\n",
       "      <td>49.0</td>\n",
       "      <td>USA</td>\n",
       "      <td>newyork</td>\n",
       "      <td>JOY</td>\n",
       "      <td>DESPAIR</td>\n",
       "      <td>JOY</td>\n",
       "      <td>DESPAIR</td>\n",
       "      <td>NaN</td>\n",
       "      <td>...</td>\n",
       "      <td>MESH</td>\n",
       "      <td>JOY</td>\n",
       "      <td>DESPAIR</td>\n",
       "      <td>DESPAIR</td>\n",
       "      <td>JOY</td>\n",
       "      <td>DESPAIR</td>\n",
       "      <td>DESPAIR</td>\n",
       "      <td>JOY</td>\n",
       "      <td>White and gold</td>\n",
       "      <td>Friday</td>\n",
       "    </tr>\n",
       "    <tr>\n",
       "      <th>3</th>\n",
       "      <td>No</td>\n",
       "      <td>Male</td>\n",
       "      <td>40.0</td>\n",
       "      <td>USA</td>\n",
       "      <td>colorado</td>\n",
       "      <td>MEH</td>\n",
       "      <td>DESPAIR</td>\n",
       "      <td>JOY</td>\n",
       "      <td>MEH</td>\n",
       "      <td>MEH</td>\n",
       "      <td>...</td>\n",
       "      <td>MEH</td>\n",
       "      <td>JOY</td>\n",
       "      <td>DESPAIR</td>\n",
       "      <td>JOY</td>\n",
       "      <td>JOY</td>\n",
       "      <td>DESPAIR</td>\n",
       "      <td>DESPAIR</td>\n",
       "      <td>DESPAIR</td>\n",
       "      <td>White and gold</td>\n",
       "      <td>Sunday</td>\n",
       "    </tr>\n",
       "    <tr>\n",
       "      <th>4</th>\n",
       "      <td>No</td>\n",
       "      <td>Male</td>\n",
       "      <td>23.0</td>\n",
       "      <td>USA</td>\n",
       "      <td>newyork</td>\n",
       "      <td>JOY</td>\n",
       "      <td>DESPAIR</td>\n",
       "      <td>JOY</td>\n",
       "      <td>DESPAIR</td>\n",
       "      <td>MEH</td>\n",
       "      <td>...</td>\n",
       "      <td>DESPAIR</td>\n",
       "      <td>JOY</td>\n",
       "      <td>MEH</td>\n",
       "      <td>JOY</td>\n",
       "      <td>JOY</td>\n",
       "      <td>DESPAIR</td>\n",
       "      <td>DESPAIR</td>\n",
       "      <td>JOY</td>\n",
       "      <td>White and gold</td>\n",
       "      <td>Friday</td>\n",
       "    </tr>\n",
       "  </tbody>\n",
       "</table>\n",
       "<p>5 rows × 110 columns</p>\n",
       "</div>"
      ],
      "text/plain": [
       "  going_out gender   age country     state 100_grand_bar  \\\n",
       "0        No   Male  41.0     USA   newyork           JOY   \n",
       "1        No   Male  44.0     USA   newyork           MEH   \n",
       "2        No   Male  49.0     USA   newyork           JOY   \n",
       "3        No   Male  40.0     USA  colorado           MEH   \n",
       "4        No   Male  23.0     USA   newyork           JOY   \n",
       "\n",
       "  anonymous_brown_globs_that_come_in_black_and_orange_wrappers  \\\n",
       "0                                            DESPAIR             \n",
       "1                                            DESPAIR             \n",
       "2                                            DESPAIR             \n",
       "3                                            DESPAIR             \n",
       "4                                            DESPAIR             \n",
       "\n",
       "  any_full_sized_candy_bar black_jacks Q6 | Bonkers (the candy)  ...  \\\n",
       "0                      JOY     DESPAIR                      NaN  ...   \n",
       "1                      JOY         MEH                  DESPAIR  ...   \n",
       "2                      JOY     DESPAIR                      NaN  ...   \n",
       "3                      JOY         MEH                      MEH  ...   \n",
       "4                      JOY     DESPAIR                      MEH  ...   \n",
       "\n",
       "  Q6 | Trail Mix Q6 | Twix  \\\n",
       "0           MESH       JOY   \n",
       "1        DESPAIR       JOY   \n",
       "2           MESH       JOY   \n",
       "3            MEH       JOY   \n",
       "4        DESPAIR       JOY   \n",
       "\n",
       "  Q6 | Vials of pure high fructose corn syrup, for main-lining into your vein  \\\n",
       "0                                            DESPAIR                            \n",
       "1                                            DESPAIR                            \n",
       "2                                            DESPAIR                            \n",
       "3                                            DESPAIR                            \n",
       "4                                                MEH                            \n",
       "\n",
       "  Q6 | Vicodin Q6 | Whatchamacallit Bars Q6 | White Bread  \\\n",
       "0      DESPAIR                       JOY          DESPAIR   \n",
       "1      DESPAIR                   DESPAIR          DESPAIR   \n",
       "2      DESPAIR                       JOY          DESPAIR   \n",
       "3          JOY                       JOY          DESPAIR   \n",
       "4          JOY                       JOY          DESPAIR   \n",
       "\n",
       "  Q6 | Whole Wheat anything Q6 | York Peppermint Patties           dress  \\\n",
       "0                   DESPAIR                          JOY  White and gold   \n",
       "1                   DESPAIR                      DESPAIR  White and gold   \n",
       "2                   DESPAIR                          JOY  White and gold   \n",
       "3                   DESPAIR                      DESPAIR  White and gold   \n",
       "4                   DESPAIR                          JOY  White and gold   \n",
       "\n",
       "      day  \n",
       "0  Friday  \n",
       "1  Sunday  \n",
       "2  Friday  \n",
       "3  Sunday  \n",
       "4  Friday  \n",
       "\n",
       "[5 rows x 110 columns]"
      ]
     },
     "execution_count": 1514,
     "metadata": {},
     "output_type": "execute_result"
    }
   ],
   "source": [
    "data.head()"
   ]
  },
  {
   "cell_type": "markdown",
   "metadata": {},
   "source": [
    "### 14 - write a summary about all the cleaning steps "
   ]
  },
  {
   "cell_type": "markdown",
   "metadata": {},
   "source": [
    "-Exploring data \n",
    ",  drop irrelevant data :useless\n",
    ",  check if there are missing values\n",
    ",  check duplicated values , drop it \n",
    ",   handling missing values , drop it , or fill it with (mean,mode,median,or other thing)\n",
    ",   type conversion : convert culumn(age) from object type to numerical \n",
    ",   inconsistant data : column(country , state) deal with the same data but may receive it from different inputs so i tried make them the same\n"
   ]
  }
 ],
 "metadata": {
  "kernelspec": {
   "display_name": "Python 3 (ipykernel)",
   "language": "python",
   "name": "python3"
  },
  "language_info": {
   "codemirror_mode": {
    "name": "ipython",
    "version": 3
   },
   "file_extension": ".py",
   "mimetype": "text/x-python",
   "name": "python",
   "nbconvert_exporter": "python",
   "pygments_lexer": "ipython3",
   "version": "3.9.13"
  }
 },
 "nbformat": 4,
 "nbformat_minor": 4
}
